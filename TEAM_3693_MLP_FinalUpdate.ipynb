{
  "cells": [
    {
      "cell_type": "markdown",
      "metadata": {
        "id": "view-in-github",
        "colab_type": "text"
      },
      "source": [
        "<a href=\"https://colab.research.google.com/github/StevTMU/AI_CUP_2023_Spring/blob/main/TEAM_3693_MLP_FinalUpdate.ipynb\" target=\"_parent\"><img src=\"https://colab.research.google.com/assets/colab-badge.svg\" alt=\"Open In Colab\"/></a>"
      ]
    },
    {
      "cell_type": "markdown",
      "metadata": {
        "id": "esp1X9Dx3oaX"
      },
      "source": [
        "# ~ 環境準備"
      ]
    },
    {
      "cell_type": "code",
      "execution_count": null,
      "metadata": {
        "id": "6yS6hmST3YMu"
      },
      "outputs": [],
      "source": [
        "# 掛載雲端硬碟 Mount google drive in CoLab enviroment\n",
        "from google.colab import drive\n",
        "drive.mount('gdrive')"
      ]
    },
    {
      "cell_type": "code",
      "execution_count": null,
      "metadata": {
        "id": "fldnr8ox3sZ_"
      },
      "outputs": [],
      "source": [
        "# 匯入需要的 python 模組\n",
        "import os\n",
        "import numpy as np\n",
        "import pandas as pd\n",
        "from sklearn.model_selection import train_test_split\n",
        "from sklearn.utils import class_weight\n",
        "import tensorflow as tf\n",
        "from tensorflow.keras.models import Model, load_model\n",
        "from tensorflow.keras import layers, callbacks, regularizers\n",
        "from tensorflow.keras.utils import plot_model\n",
        "from tensorflow.keras import backend as K\n",
        "import matplotlib.pyplot as plt\n",
        "from sklearn.metrics import roc_curve, auc, confusion_matrix, classification_report, recall_score\n",
        "from itertools import cycle, product\n",
        "from scipy import interp"
      ]
    },
    {
      "cell_type": "code",
      "execution_count": null,
      "metadata": {
        "id": "6hUnX1xI367W"
      },
      "outputs": [],
      "source": [
        "# 變更工作資料夾 --> 自己組別的資料夾 ex.\"/content/gdrive/Shareddrives/1112_AI智慧醫療三日工作坊/第01大組_\"\n",
        "my_working_root = \"/content/gdrive/Shareddrives/1112_AI智慧醫療三日工作坊/第04大組_Pony小馬車/code\"\n",
        "os.chdir(my_working_root)"
      ]
    },
    {
      "cell_type": "markdown",
      "metadata": {
        "id": "jnH9sNAI43ST"
      },
      "source": [
        "# 1 資料處理\n",
        "|變項(中文)|變項(英文)|Coding|說明(中文)|說明(英文)|\n",
        "|---|---|---|---|---|\n",
        "|嗓音診斷分類(target)|Disease category|1/2/3/4/5|嗓音誤用/聲帶閉合不全/聲帶麻痺/聲帶腫瘤/聲帶正常|Phonotrauma/Incomplete glottic closure/Vocal palsy/Neoplasm/Normal|\n",
        "|性別|Sex|1/2|男性/女性|Male/Female\n",
        "|年齡|Age|numbers| |  \t\n",
        "|音域變窄|Narrow pitch range|0/1|無/有|No/Yes\n",
        "|說話音量變小|Decreased volume|0/1|無/有|No/Yes\n",
        "|說話久了容易累|Fatigue|0/1|無/有|No/Yes\n",
        "|喉嚨常覺得乾|Dryness|0/1|無/有|No/Yes\n",
        "|喉嚨有異物感|Lumping|0/1|無/有|No/Yes\n",
        "|胸口有灼熱感|Heartburn|0/1|無/有|No/Yes\n",
        "|吞東西容易嗆到|Choking|0/1|無/有|No/Yes\n",
        "|眼睛乾澀|Eye dryness|0/1|無/有|No/Yes\n",
        "|鼻涕倒流|PND|0/1|無/有|No/Yes\n",
        "|糖尿病|Diabetes|0/1|無/有|No/Yes\n",
        "|高血壓|Hypertension|0/1|無/有|No/Yes\n",
        "|心臟病|CAD|0/1|無/有|No/Yes\n",
        "|頭頸部腫瘤|Head and Neck Cancer|0/1|無/有|No/Yes\n",
        "|頭部損傷|Head injury|0/1|無/有|No/Yes\n",
        "|腦中風|CVA|0/1|無/有|No/Yes\n",
        "|抽菸|Smoking|0/1/2/3|從未/已戒菸/有抽菸/電子菸|Never/past/active/e-cigarette\n",
        "|PPD|PPD|numbers|一天幾包菸|pack (of cigarrette) per day\n",
        "|喝酒|Drinking|0/1/2|從未喝酒/已戒酒/有喝酒|Never/past/active \n",
        "|喝酒頻率|Frequency|0/1/2/3|偶爾喝/每周喝/幾乎每天|Not/occasionally/ weekly/daily \n",
        "|症狀如何發生的|Onset of dysphonia|1/2/3/4/5|突然/逐漸變差/時好時壞/從小開始/其他|Sudden/Gradually/On and off/Since childhood/Other \n",
        "|工作環境是否吵雜|Noise at work|1/2/3|否/有一點/很吵|Not/a little/noisy \n",
        "|聲音何時最差|Diurnal pattern|1/2/3/4|早上/下午、晚上 /都一樣/不一定|Worse in the morning/Worse in the afternoon/Similar all day/Fluctuating \n",
        "|用聲情形|Occupational vocal demand|1/2/3/4|總是需要/經常需要/偶而需要/不需要|Always/Frequent/Occasional/Minimal \n",
        "|VHI-10嗓音障礙指標|Voice handicap index - 10|0 to 40| |\t\t"
      ]
    },
    {
      "cell_type": "code",
      "execution_count": null,
      "metadata": {
        "id": "fTCxNjdf4y3t"
      },
      "outputs": [],
      "source": [
        "# 讀取資料表\n",
        "df = pd.read_csv(\"/content/gdrive/Shareddrives/1112_AI智慧醫療三日工作坊/教材/Training Dataset/training datalist.csv\")\n",
        "df"
      ]
    },
    {
      "cell_type": "code",
      "execution_count": null,
      "metadata": {
        "id": "B4fQSxuU5Jy0"
      },
      "outputs": [],
      "source": [
        "#資料表資料\n",
        "df.info()"
      ]
    },
    {
      "cell_type": "markdown",
      "metadata": {
        "id": "4EqQexSPftzq"
      },
      "source": [
        "## 1.0 標籤分析"
      ]
    },
    {
      "cell_type": "code",
      "execution_count": null,
      "metadata": {
        "id": "S-oHgMK1fgnB"
      },
      "outputs": [],
      "source": [
        "# 分類標籤\n",
        "CLASSES = [\"Phonotrauma\", \"Incomplete glottic closure\", \"Vocal palsy\", \"Neoplasm\", \"Normal\"]\n",
        "df['Disease category'].value_counts().plot.pie()"
      ]
    },
    {
      "cell_type": "code",
      "execution_count": null,
      "metadata": {
        "id": "zHDyHzbTpYb6"
      },
      "outputs": [],
      "source": [
        "# 樣本權重 sample weight  (for imbalance data) 依據type來分配比例\n",
        "df['sample_weight'] = class_weight.compute_sample_weight('balanced', y=df['Disease category'])\n",
        "df"
      ]
    },
    {
      "cell_type": "code",
      "execution_count": null,
      "metadata": {
        "id": "JyYzCYeUidVI"
      },
      "outputs": [],
      "source": [
        "# class weight (for imbalance data)\n",
        "cw = class_weight.compute_class_weight('balanced', classes=np.array([1,2,3,4,5]), y=df['Disease category'])\n",
        "class_weight_dict = dict(enumerate(cw))\n",
        "print(\"CLASSES:\", CLASSES)\n",
        "print(\"class_weight_dict =\", class_weight_dict)"
      ]
    },
    {
      "cell_type": "markdown",
      "metadata": {
        "id": "pvJ2YL2Z-Dcc"
      },
      "source": [
        "## 1.1 清理缺失值 (NA)"
      ]
    },
    {
      "cell_type": "code",
      "execution_count": null,
      "metadata": {
        "id": "7c9V9mol-IcR"
      },
      "outputs": [],
      "source": [
        "# PPD (一天幾包菸)\n",
        "df['PPD'] = df['PPD'].fillna(0)  # 缺值補0\n",
        "print(\"'PPD' na number =\", df['PPD'].isna().sum())"
      ]
    },
    {
      "cell_type": "code",
      "execution_count": null,
      "metadata": {
        "id": "sg46NqmI5qVA"
      },
      "outputs": [],
      "source": [
        "# Voice handicap index - 10  (VHI-10嗓音障礙指標) 0(healthy)-40(devastating)\n",
        "print(df['Voice handicap index - 10'].describe())\n",
        "df.loc[df['Voice handicap index - 10'].isna(), 'Voice handicap index - 10'] = 23  # 缺值補23(中位數)\n",
        "print(\"'Voice handicap index - 10' na number =\", df['Voice handicap index - 10'].isna().sum())"
      ]
    },
    {
      "cell_type": "markdown",
      "metadata": {
        "id": "9s5av4e1Clfu"
      },
      "source": [
        "## 1.2 處理 類別變項 (Categorical Feature) --> one-hot encoding\n",
        "其他方法：https://axk51013.medium.com/%E4%B8%8D%E8%A6%81%E5%86%8D%E5%81%9Aone-hot-encoding-b5126d3f8a63  "
      ]
    },
    {
      "cell_type": "code",
      "execution_count": null,
      "metadata": {
        "id": "QJXa6AkOK90i"
      },
      "outputs": [],
      "source": [
        "print(\"所有的欄位：\", df.columns)"
      ]
    },
    {
      "cell_type": "code",
      "execution_count": null,
      "metadata": {
        "id": "CdyDYPkwCdw3"
      },
      "outputs": [],
      "source": [
        "# 類別欄位 處理成one-hot (是非題的變因不處理)\n",
        "categorical_columns = ['Sex', 'Smoking', 'Diurnal pattern', 'Onset of dysphonia ', 'Occupational vocal demand']\n",
        "df_trans = pd.get_dummies(df, columns=categorical_columns)\n",
        "df_trans"
      ]
    },
    {
      "cell_type": "code",
      "execution_count": null,
      "metadata": {
        "id": "i-aZiz-2M-fL"
      },
      "outputs": [],
      "source": [
        "df_trans.info()"
      ]
    },
    {
      "cell_type": "markdown",
      "metadata": {
        "id": "KRm3iFHiMtas"
      },
      "source": [
        "## 1.3 處理 連續變項 (Continuous Feature)"
      ]
    },
    {
      "cell_type": "code",
      "execution_count": null,
      "metadata": {
        "id": "sgjK0SeiMtat"
      },
      "outputs": [],
      "source": [
        "# 正規化(Normalization) 讓標籤都變成[0.0 ~ 1.0]\n",
        "df_trans['Age'] = df['Age'] / 100\n",
        "df_trans['PPD'] = df['PPD'] / 2\n",
        "df_trans['Drinking'] = df['Drinking'] / 2\n",
        "df_trans['frequency'] = df['frequency'] / 3\n",
        "df_trans['Noise at work'] = (df['Noise at work'] - 1) / 2\n",
        "df_trans['Occupational vocal demand'] = (4 - df['Occupational vocal demand']) / 3\n",
        "df_trans['Voice handicap index - 10'] = df['Voice handicap index - 10'] / 40\n",
        "df_trans.describe()"
      ]
    },
    {
      "cell_type": "markdown",
      "metadata": {
        "id": "3NWGNMsmFxkz"
      },
      "source": [
        "## 1.4 處理 目標欄位 (target)"
      ]
    },
    {
      "cell_type": "code",
      "execution_count": null,
      "metadata": {
        "id": "L3mvKrXyNaI-"
      },
      "outputs": [],
      "source": [
        "df_trans = pd.get_dummies(df_trans, columns=['Disease category'])\n",
        "df_trans"
      ]
    },
    {
      "cell_type": "code",
      "execution_count": null,
      "metadata": {
        "id": "QpIgITA1ZxZu"
      },
      "outputs": [],
      "source": [
        "df_trans.columns"
      ]
    },
    {
      "cell_type": "code",
      "execution_count": null,
      "metadata": {
        "id": "G_ZiABZAaP-x"
      },
      "outputs": [],
      "source": [
        "# 特徵欄位 ('ID'不是特徵)只留下可當特徵的，其他刪掉！\n",
        "feature_columns = ['Age', 'Narrow pitch range', 'Decreased volume', 'Fatigue',\n",
        "       'Dryness', 'Lumping', 'heartburn', 'Choking', 'Eye dryness', 'PND',\n",
        "       'PPD', 'Drinking', 'frequency', 'Noise at work', 'Diabetes',\n",
        "       'Hypertension', 'CAD', 'Head and Neck Cancer', 'Head injury', 'CVA',\n",
        "       'Voice handicap index - 10', 'Sex_1', 'Sex_2', 'Smoking_0', 'Smoking_1',\n",
        "       'Smoking_2', 'Smoking_3', 'Diurnal pattern_1', 'Diurnal pattern_2',\n",
        "       'Diurnal pattern_3', 'Diurnal pattern_4', 'Onset of dysphonia _1',\n",
        "       'Onset of dysphonia _2', 'Onset of dysphonia _3',\n",
        "       'Onset of dysphonia _4', 'Onset of dysphonia _5',\n",
        "       'Occupational vocal demand_1', 'Occupational vocal demand_2',\n",
        "       'Occupational vocal demand_3', 'Occupational vocal demand_4',\n",
        "       'Occupational vocal demand']\n",
        "# 分類目標欄位\n",
        "target_columns = ['Disease category_1', 'Disease category_2', 'Disease category_3', 'Disease category_4', 'Disease category_5']\n",
        "\n",
        "print(\"特徵欄位數量 =\", len(feature_columns))\n",
        "print(\"目標欄位數量 =\", len(target_columns))"
      ]
    },
    {
      "cell_type": "markdown",
      "metadata": {
        "id": "fvpm0f5HYReo"
      },
      "source": [
        "## 1.5 資料及分割 (train/valid)\n",
        "https://scikit-learn.org/stable/modules/generated/sklearn.model_selection.train_test_split.html"
      ]
    },
    {
      "cell_type": "code",
      "execution_count": null,
      "metadata": {
        "id": "v4eJX8ufYacv"
      },
      "outputs": [],
      "source": [
        "# 按診斷分類 切分 train/valid   80/20 ratio\n",
        "train_index, valid_index = train_test_split(df_trans.index, train_size=0.8, random_state=333, stratify=df['Disease category'])\n",
        "print('train_index shape =', train_index.shape)\n",
        "print('valid_index shape =', valid_index.shape)"
      ]
    },
    {
      "cell_type": "markdown",
      "metadata": {
        "id": "7F1kdj4JdR8j"
      },
      "source": [
        "## 1.6 樣本產生器(generator)\n",
        "https://www.tensorflow.org/api_docs/python/tf/data/Dataset"
      ]
    },
    {
      "cell_type": "code",
      "execution_count": null,
      "metadata": {
        "id": "k8WAQ_8mpfmd"
      },
      "outputs": [],
      "source": [
        "# define tensorflow function\n",
        "def train_preprocessing(idx):\n",
        "    def py_preproc(idx):  # input tensor\n",
        "        idx = idx.numpy()\n",
        "        feats = df_trans.loc[idx, feature_columns].values\n",
        "        label = df_trans.loc[idx, target_columns].values\n",
        "        sample_weight = df_trans.loc[idx, 'sample_weight']       \n",
        "        return feats, label, sample_weight\n",
        "\n",
        "    feats, label, sample_weight = tf.py_function(func=py_preproc, inp=[idx], Tout=[tf.float32, tf.float32, tf.float32])\n",
        "    return feats, label, sample_weight  # tensor output\n",
        "\n",
        "def valid_preprocessing(idx):  # same as train_preprocessing but without augmentation and sample_weight\n",
        "    def py_preproc(idx):  # input tensor\n",
        "        idx = idx.numpy()\n",
        "        feats = df_trans.loc[idx, feature_columns].values\n",
        "        label = df_trans.loc[idx, target_columns].values\n",
        "        return feats, label\n",
        "        \n",
        "    feats, label = tf.py_function(func=py_preproc, inp=[idx], Tout=[tf.float32, tf.float32])\n",
        "    return feats, label  # tensor output\n",
        "\n",
        "# tf function test:\n",
        "idx = np.random.choice(df.index, size=1)[0]  # 隨機選一個資料索引\n",
        "X, y, sw = train_preprocessing(idx)\n",
        "print(f\"X shape={X.shape} dtype={X.dtype.name}\")\n",
        "print(\"y =\", y)\n",
        "print(\"sample_weight =\", sw)"
      ]
    },
    {
      "cell_type": "code",
      "execution_count": null,
      "metadata": {
        "id": "PK9tewRudRUP"
      },
      "outputs": [],
      "source": [
        "# prepare dataset as generator\n",
        "batch_size = 64\n",
        "autotune = tf.data.experimental.AUTOTUNE\n",
        "\n",
        "train_generator = tf.data.Dataset.from_tensor_slices(train_index)  # train index\n",
        "train_generator = train_generator.shuffle(len(train_index), reshuffle_each_iteration=True) \\\n",
        "                                .map(train_preprocessing, num_parallel_calls=4) \\\n",
        "                                .batch(batch_size) \\\n",
        "                                .prefetch(2)\n",
        "\n",
        "valid_generator = tf.data.Dataset.from_tensor_slices(valid_index)  # valid index\n",
        "valid_generator = valid_generator.map(valid_preprocessing, num_parallel_calls=4) \\\n",
        "                                .batch(batch_size) \\\n",
        "                                .prefetch(2)\n",
        "\n",
        "# train_generator test:\n",
        "for batch_x, batch_y, batch_sw in train_generator:\n",
        "    print(\"batch_x shape:\", batch_x.shape)\n",
        "    print(\"batch_y shape:\", batch_y.shape)\n",
        "    print(\"batch_sw shape:\", batch_sw.shape)\n",
        "    break"
      ]
    },
    {
      "cell_type": "markdown",
      "metadata": {
        "id": "Fj9O1s5kXK_i"
      },
      "source": [
        "# 2 模型 Model"
      ]
    },
    {
      "cell_type": "code",
      "execution_count": null,
      "metadata": {
        "id": "8oEJCK9QUsMY"
      },
      "outputs": [],
      "source": [
        "def build_model(feature_num, num_classes=5):\n",
        "    inputs = layers.Input(shape=(feature_num, ), name=\"feats\")\n",
        "\n",
        "    # MLP 三層\n",
        "    x = layers.Dense(128, activation=\"relu\")(inputs) #kernel_regularizer=regularizers.l2(0.001)\n",
        "    x = layers.Dropout(0.1)(x)\n",
        "    x = layers.Dense(128, activation=\"relu\")(x)\n",
        "    x = layers.Dropout(0.1)(x)\n",
        "    x = layers.Dense(64, activation=\"relu\")(x)\n",
        "    x = layers.Dropout(0.1)(x)\n",
        "    x = layers.Dense(64, activation=\"relu\")(x)\n",
        "    x = layers.Dropout(0.1)(x)\n",
        "    \n",
        "    \n",
        "    \n",
        "\n",
        "    \n",
        "    logits = layers.Dense(num_classes, name=\"logits\")(x)\n",
        "\n",
        "    model = Model(inputs=inputs, outputs=logits, name=f\"feat{feature_num}_D64D64O1-D5\")  # <-- 為模型命名(存檔資料夾名稱)\n",
        "    return model\n",
        "\n",
        "# Build model.\n",
        "K.clear_session()\n",
        "model = build_model(feature_num=len(feature_columns))\n",
        "model.summary(line_length=160)"
      ]
    },
    {
      "cell_type": "code",
      "execution_count": null,
      "metadata": {
        "id": "px7zk7H3b13P"
      },
      "outputs": [],
      "source": [
        "# 看看設計架構\n",
        "plot_model(model, to_file=\"/tmp/model.png\", show_shapes=True, show_dtype=True, show_layer_names=True, dpi=48)"
      ]
    },
    {
      "cell_type": "code",
      "execution_count": null,
      "metadata": {
        "id": "THP7I7M1cCoC"
      },
      "outputs": [],
      "source": [
        "def f1(y_true, y_pred):    \n",
        "    def recall_m(y_true, y_pred):\n",
        "        TP = K.sum(K.round(K.clip(y_true * y_pred, 0, 1)))\n",
        "        Positives = K.sum(K.round(K.clip(y_true, 0, 1)))\n",
        "        recall = TP / (Positives+K.epsilon())    \n",
        "        return recall \n",
        "    def precision_m(y_true, y_pred):\n",
        "        TP = K.sum(K.round(K.clip(y_true * y_pred, 0, 1)))\n",
        "        Pred_Positives = K.sum(K.round(K.clip(y_pred, 0, 1)))\n",
        "        precision = TP / (Pred_Positives+K.epsilon())\n",
        "        return precision \n",
        "    precision, recall = precision_m(y_true, y_pred), recall_m(y_true, y_pred)\n",
        "    return 2*((precision*recall)/(precision+recall+K.epsilon()))\n",
        "\n",
        "# Compile model\n",
        "model.compile(loss=tf.keras.losses.CategoricalCrossentropy(from_logits=True), \n",
        "              optimizer=tf.keras.optimizers.Adam(learning_rate=0.001), \n",
        "              metrics=[tf.keras.metrics.AUC(name='auc'), #類別資料較常用到\n",
        "                       f1, \n",
        "                       ])"
      ]
    },
    {
      "cell_type": "markdown",
      "metadata": {
        "id": "q_k-49tbbpwP"
      },
      "source": [
        "# 3 訓練 Training"
      ]
    },
    {
      "cell_type": "code",
      "execution_count": 24,
      "metadata": {
        "colab": {
          "base_uri": "https://localhost:8080/"
        },
        "id": "KmzTBt-HxfCR",
        "outputId": "3c8eacf8-a238-427b-b499-7fde08bbcceb"
      },
      "outputs": [
        {
          "output_type": "stream",
          "name": "stdout",
          "text": [
            "Epoch 1/100\n",
            "13/13 [==============================] - 8s 290ms/step - loss: 1.6123 - auc: 0.5811 - f1: 0.0000e+00 - val_loss: 1.5470 - val_auc: 0.7246 - val_f1: 0.0000e+00 - lr: 0.0010\n",
            "Epoch 2/100\n",
            "13/13 [==============================] - 2s 187ms/step - loss: 1.5599 - auc: 0.6584 - f1: 0.0499 - val_loss: 1.5162 - val_auc: 0.6927 - val_f1: 0.2300 - lr: 0.0010\n",
            "Epoch 3/100\n",
            "13/13 [==============================] - 3s 210ms/step - loss: 1.4975 - auc: 0.6902 - f1: 0.2264 - val_loss: 1.4143 - val_auc: 0.7629 - val_f1: 0.3448 - lr: 0.0010\n",
            "Epoch 4/100\n",
            "13/13 [==============================] - 2s 168ms/step - loss: 1.4104 - auc: 0.7588 - f1: 0.4599 - val_loss: 1.3015 - val_auc: 0.7962 - val_f1: 0.5117 - lr: 0.0010\n",
            "Epoch 5/100\n",
            "13/13 [==============================] - 2s 170ms/step - loss: 1.3021 - auc: 0.7701 - f1: 0.5056 - val_loss: 1.2101 - val_auc: 0.8032 - val_f1: 0.5301 - lr: 0.0010\n",
            "Epoch 6/100\n",
            "13/13 [==============================] - 2s 161ms/step - loss: 1.2587 - auc: 0.7760 - f1: 0.5124 - val_loss: 1.2630 - val_auc: 0.7590 - val_f1: 0.5103 - lr: 0.0010\n",
            "Epoch 7/100\n",
            "13/13 [==============================] - 2s 174ms/step - loss: 1.1885 - auc: 0.7531 - f1: 0.4826 - val_loss: 1.2068 - val_auc: 0.7764 - val_f1: 0.5434 - lr: 0.0010\n",
            "Epoch 8/100\n",
            "13/13 [==============================] - 3s 232ms/step - loss: 1.1422 - auc: 0.7822 - f1: 0.5231 - val_loss: 1.1398 - val_auc: 0.8016 - val_f1: 0.5653 - lr: 0.0010\n",
            "Epoch 9/100\n",
            "13/13 [==============================] - 2s 183ms/step - loss: 1.0618 - auc: 0.7994 - f1: 0.5287 - val_loss: 1.2460 - val_auc: 0.7637 - val_f1: 0.5398 - lr: 0.0010\n",
            "Epoch 10/100\n",
            "13/13 [==============================] - 2s 165ms/step - loss: 0.9574 - auc: 0.7996 - f1: 0.5407 - val_loss: 1.0908 - val_auc: 0.8001 - val_f1: 0.5760 - lr: 0.0010\n",
            "Epoch 11/100\n",
            "13/13 [==============================] - 2s 170ms/step - loss: 0.9068 - auc: 0.8010 - f1: 0.5460 - val_loss: 1.1632 - val_auc: 0.7874 - val_f1: 0.5898 - lr: 0.0010\n",
            "Epoch 12/100\n",
            "13/13 [==============================] - 2s 163ms/step - loss: 0.8853 - auc: 0.8025 - f1: 0.5445 - val_loss: 1.0581 - val_auc: 0.8156 - val_f1: 0.5925 - lr: 0.0010\n",
            "Epoch 13/100\n",
            "13/13 [==============================] - 3s 212ms/step - loss: 0.8498 - auc: 0.8165 - f1: 0.5696 - val_loss: 1.1523 - val_auc: 0.7917 - val_f1: 0.5800 - lr: 0.0010\n",
            "Epoch 14/100\n",
            "13/13 [==============================] - 3s 229ms/step - loss: 0.7976 - auc: 0.8086 - f1: 0.5488 - val_loss: 1.0131 - val_auc: 0.8243 - val_f1: 0.5688 - lr: 0.0010\n",
            "Epoch 15/100\n",
            "13/13 [==============================] - 2s 181ms/step - loss: 0.7232 - auc: 0.8337 - f1: 0.5696 - val_loss: 1.0935 - val_auc: 0.8013 - val_f1: 0.5549 - lr: 0.0010\n",
            "Epoch 16/100\n",
            "13/13 [==============================] - 2s 159ms/step - loss: 0.7180 - auc: 0.8262 - f1: 0.5710 - val_loss: 1.0689 - val_auc: 0.8166 - val_f1: 0.5766 - lr: 0.0010\n",
            "Epoch 17/100\n",
            "13/13 [==============================] - 2s 180ms/step - loss: 0.6451 - auc: 0.8360 - f1: 0.5712 - val_loss: 1.0416 - val_auc: 0.8133 - val_f1: 0.5578 - lr: 0.0010\n",
            "Epoch 18/100\n",
            "13/13 [==============================] - 3s 224ms/step - loss: 0.6182 - auc: 0.8313 - f1: 0.5704 - val_loss: 1.0833 - val_auc: 0.8007 - val_f1: 0.5632 - lr: 0.0010\n",
            "Epoch 19/100\n",
            "13/13 [==============================] - 2s 181ms/step - loss: 0.6013 - auc: 0.8388 - f1: 0.5803 - val_loss: 1.0657 - val_auc: 0.8017 - val_f1: 0.5535 - lr: 0.0010\n",
            "Epoch 20/100\n",
            "13/13 [==============================] - 2s 183ms/step - loss: 0.5830 - auc: 0.8332 - f1: 0.5692 - val_loss: 1.0169 - val_auc: 0.8049 - val_f1: 0.5656 - lr: 0.0010\n",
            "Epoch 21/100\n",
            "13/13 [==============================] - 2s 188ms/step - loss: 0.5657 - auc: 0.8351 - f1: 0.5759 - val_loss: 1.1249 - val_auc: 0.7903 - val_f1: 0.5620 - lr: 0.0010\n",
            "Epoch 22/100\n",
            "13/13 [==============================] - 3s 221ms/step - loss: 0.5601 - auc: 0.8282 - f1: 0.5658 - val_loss: 1.0511 - val_auc: 0.7929 - val_f1: 0.5457 - lr: 0.0010\n",
            "Epoch 23/100\n",
            "13/13 [==============================] - 4s 306ms/step - loss: 0.5022 - auc: 0.8450 - f1: 0.5765 - val_loss: 1.1044 - val_auc: 0.7976 - val_f1: 0.5635 - lr: 0.0010\n",
            "Epoch 24/100\n",
            "13/13 [==============================] - 2s 172ms/step - loss: 0.4710 - auc: 0.8406 - f1: 0.5764 - val_loss: 1.1407 - val_auc: 0.8002 - val_f1: 0.5714 - lr: 0.0010\n",
            "Epoch 25/100\n",
            "13/13 [==============================] - 2s 169ms/step - loss: 0.4986 - auc: 0.8421 - f1: 0.5768 - val_loss: 1.1459 - val_auc: 0.7875 - val_f1: 0.5297 - lr: 0.0010\n",
            "Epoch 26/100\n",
            "13/13 [==============================] - 2s 189ms/step - loss: 0.4524 - auc: 0.8469 - f1: 0.5834 - val_loss: 1.0643 - val_auc: 0.7999 - val_f1: 0.5487 - lr: 0.0010\n",
            "Epoch 27/100\n",
            "13/13 [==============================] - 3s 225ms/step - loss: 0.4601 - auc: 0.8494 - f1: 0.5895 - val_loss: 1.1745 - val_auc: 0.7999 - val_f1: 0.5614 - lr: 0.0010\n",
            "Epoch 28/100\n",
            "13/13 [==============================] - 3s 199ms/step - loss: 0.4506 - auc: 0.8465 - f1: 0.5848 - val_loss: 1.0678 - val_auc: 0.7930 - val_f1: 0.5601 - lr: 0.0010\n",
            "Epoch 29/100\n",
            "13/13 [==============================] - 2s 189ms/step - loss: 0.4433 - auc: 0.8509 - f1: 0.5882 - val_loss: 1.2251 - val_auc: 0.7943 - val_f1: 0.5505 - lr: 0.0010\n",
            "Epoch 30/100\n",
            "13/13 [==============================] - 3s 208ms/step - loss: 0.4274 - auc: 0.8477 - f1: 0.5870 - val_loss: 1.1522 - val_auc: 0.7898 - val_f1: 0.5452 - lr: 5.0000e-04\n",
            "Epoch 31/100\n",
            "13/13 [==============================] - 2s 183ms/step - loss: 0.3977 - auc: 0.8469 - f1: 0.5778 - val_loss: 1.1296 - val_auc: 0.7926 - val_f1: 0.5406 - lr: 5.0000e-04\n",
            "Epoch 32/100\n",
            "13/13 [==============================] - 2s 189ms/step - loss: 0.3840 - auc: 0.8523 - f1: 0.5853 - val_loss: 1.1378 - val_auc: 0.7935 - val_f1: 0.5595 - lr: 5.0000e-04\n",
            "Epoch 33/100\n",
            "13/13 [==============================] - 2s 176ms/step - loss: 0.4048 - auc: 0.8508 - f1: 0.5844 - val_loss: 1.1768 - val_auc: 0.7920 - val_f1: 0.5589 - lr: 5.0000e-04\n",
            "Epoch 34/100\n",
            "13/13 [==============================] - 2s 186ms/step - loss: 0.3512 - auc: 0.8504 - f1: 0.5825 - val_loss: 1.1646 - val_auc: 0.7960 - val_f1: 0.5332 - lr: 5.0000e-04\n",
            "Epoch 35/100\n",
            "13/13 [==============================] - 3s 234ms/step - loss: 0.3732 - auc: 0.8457 - f1: 0.5824 - val_loss: 1.1656 - val_auc: 0.7962 - val_f1: 0.5363 - lr: 5.0000e-04\n",
            "Epoch 36/100\n",
            "13/13 [==============================] - 2s 167ms/step - loss: 0.3444 - auc: 0.8465 - f1: 0.5807 - val_loss: 1.2053 - val_auc: 0.7864 - val_f1: 0.5299 - lr: 5.0000e-04\n",
            "Epoch 37/100\n",
            "13/13 [==============================] - 2s 167ms/step - loss: 0.3683 - auc: 0.8465 - f1: 0.5824 - val_loss: 1.1925 - val_auc: 0.7896 - val_f1: 0.5461 - lr: 5.0000e-04\n",
            "Epoch 38/100\n",
            "13/13 [==============================] - 2s 180ms/step - loss: 0.3791 - auc: 0.8481 - f1: 0.5860 - val_loss: 1.1770 - val_auc: 0.7906 - val_f1: 0.5514 - lr: 5.0000e-04\n",
            "Epoch 39/100\n",
            "13/13 [==============================] - 2s 165ms/step - loss: 0.3605 - auc: 0.8446 - f1: 0.5824 - val_loss: 1.1632 - val_auc: 0.7907 - val_f1: 0.5277 - lr: 5.0000e-04\n",
            "Epoch 40/100\n",
            "13/13 [==============================] - 3s 204ms/step - loss: 0.3315 - auc: 0.8445 - f1: 0.5799 - val_loss: 1.1572 - val_auc: 0.7925 - val_f1: 0.5329 - lr: 5.0000e-04\n",
            "Epoch 41/100\n",
            "13/13 [==============================] - 2s 167ms/step - loss: 0.3364 - auc: 0.8433 - f1: 0.5828 - val_loss: 1.1827 - val_auc: 0.7924 - val_f1: 0.5368 - lr: 5.0000e-04\n",
            "Epoch 42/100\n",
            "13/13 [==============================] - 2s 179ms/step - loss: 0.3210 - auc: 0.8425 - f1: 0.5735 - val_loss: 1.1527 - val_auc: 0.7922 - val_f1: 0.5257 - lr: 5.0000e-04\n",
            "Epoch 43/100\n",
            "13/13 [==============================] - 2s 169ms/step - loss: 0.3188 - auc: 0.8489 - f1: 0.5856 - val_loss: 1.1934 - val_auc: 0.7935 - val_f1: 0.5378 - lr: 5.0000e-04\n",
            "Epoch 44/100\n",
            "13/13 [==============================] - 2s 184ms/step - loss: 0.3103 - auc: 0.8502 - f1: 0.5859 - val_loss: 1.1828 - val_auc: 0.7915 - val_f1: 0.5315 - lr: 5.0000e-04\n"
          ]
        }
      ],
      "source": [
        "# 建立模型儲存資料夾\n",
        "model_dir = f\"{my_working_root}/model/{model.name}\"  # <-- 指定模型儲存的資料夾\n",
        "os.makedirs(model_dir, exist_ok=True)\n",
        "\n",
        "# Define callbacks\n",
        "mc = callbacks.ModelCheckpoint(filepath= model_dir + '/best_model.h5', \n",
        "                               monitor='val_f1', mode='max', save_best_only=True)\n",
        "rl = callbacks.ReduceLROnPlateau(monitor='val_loss', mode='min', factor=0.5, patience=15)\n",
        "es = callbacks.EarlyStopping(monitor='val_loss', mode='min', patience=30)\n",
        "\n",
        "# 開始訓練\n",
        "EPOCHS = 100\n",
        "history = model.fit(train_generator, \n",
        "                    epochs=EPOCHS, \n",
        "                    validation_data=valid_generator, \n",
        "                    callbacks=[mc, rl, es], \n",
        "                    )"
      ]
    },
    {
      "cell_type": "code",
      "execution_count": 25,
      "metadata": {
        "cellView": "form",
        "id": "-McPZyROjI1h",
        "colab": {
          "base_uri": "https://localhost:8080/",
          "height": 212
        },
        "outputId": "f31872f6-7900-4fb6-a5b5-8077eda1de7b"
      },
      "outputs": [
        {
          "output_type": "display_data",
          "data": {
            "text/plain": [
              "<Figure size 1500x400 with 3 Axes>"
            ],
            "image/png": "[encoded data removed]"
          },
          "metadata": {}
        }
      ],
      "source": [
        "#@title 訓練曲線\n",
        "plt.rcParams.update({'font.size': 8})\n",
        "fig, (ax1, ax2, ax3) = plt.subplots(1, 3, figsize=(15, 4))\n",
        "\n",
        "# Plot training & validation accuracy values\n",
        "ax1.plot(history.history['loss'])\n",
        "ax1.plot(history.history['val_loss'])\n",
        "ax1.set_title('loss')\n",
        "ax1.set(ylabel='loss', xlabel='Epoch')\n",
        "ax1.legend(['Train', 'Valid'], loc='lower left')\n",
        "\n",
        "# Plot training & validation loss values\n",
        "ax2.plot(history.history['auc'])\n",
        "ax2.plot(history.history['val_auc'])\n",
        "ax2.set_title('AUC')\n",
        "ax2.set(ylabel='AUC', xlabel='Epoch')\n",
        "ax2.legend(['Train', 'Valid'], loc='upper left')\n",
        "\n",
        "# Plot training & validation F1-score values\n",
        "ax3.plot(history.history['f1'])\n",
        "ax3.plot(history.history['val_f1'])\n",
        "ax3.set_title('F1-score')\n",
        "ax3.set(ylabel='F1-score', xlabel='Epoch')\n",
        "ax3.legend(['Train', 'Valid'], loc='upper left')\n",
        "\n",
        "plt.show()"
      ]
    },
    {
      "cell_type": "code",
      "execution_count": 26,
      "metadata": {
        "id": "GWlhzLEqjjqG"
      },
      "outputs": [],
      "source": [
        "# 儲存模型 save model\n",
        "h5_file_path = model_dir + \"/epoch_end.h5\"\n",
        "model.save(h5_file_path)"
      ]
    },
    {
      "cell_type": "markdown",
      "metadata": {
        "id": "Duo-PQmTrKeE"
      },
      "source": [
        "# 4 評估 Evaluation"
      ]
    },
    {
      "cell_type": "code",
      "execution_count": 27,
      "metadata": {
        "id": "3WqBGIYsrKeE"
      },
      "outputs": [],
      "source": [
        "# 讀取模型存檔\n",
        "h5_file_path = model_dir + \"/best_model.h5\"\n",
        "# h5_file_path = model_dir + \"/epoch_end.h5\"\n",
        "model = load_model(h5_file_path, compile=False)"
      ]
    },
    {
      "cell_type": "code",
      "execution_count": 28,
      "metadata": {
        "id": "3v0qS9hurKeE",
        "colab": {
          "base_uri": "https://localhost:8080/"
        },
        "outputId": "a20116b2-c285-434c-a0d5-598c3c63ee36"
      },
      "outputs": [
        {
          "output_type": "stream",
          "name": "stdout",
          "text": [
            "....Done!\n",
            "y_true shape: (200, 5)\n",
            "y_pred shape: (200, 5)\n"
          ]
        }
      ],
      "source": [
        "# 預測 驗證集 predict valid_set eagerly\n",
        "y_true = []\n",
        "y_pred = []\n",
        "for x, y in valid_generator:\n",
        "    y_true.append(y)\n",
        "    pred = model(x, training=False).numpy()\n",
        "    y_pred.append(pred)\n",
        "    print(\".\", end=\"\")\n",
        "print(\"Done!\")\n",
        "\n",
        "y_true = np.concatenate(y_true)\n",
        "y_pred = np.concatenate(y_pred)\n",
        "print(\"y_true shape:\", y_true.shape)\n",
        "print(\"y_pred shape:\", y_pred.shape)"
      ]
    },
    {
      "cell_type": "code",
      "execution_count": 29,
      "metadata": {
        "cellView": "form",
        "id": "zXuMS-dJrKeE",
        "colab": {
          "base_uri": "https://localhost:8080/",
          "height": 552
        },
        "outputId": "6be2b5ec-00c2-4317-ae3d-2b32031309a9"
      },
      "outputs": [
        {
          "output_type": "display_data",
          "data": {
            "text/plain": [
              "<Figure size 600x600 with 1 Axes>"
            ],
            "image/png": "[encoded data removed]"
          },
          "metadata": {}
        }
      ],
      "source": [
        "#@title 畫出 ROC曲線\n",
        "#@markdown https://zh.wikipedia.org/zh-tw/ROC%E6%9B%B2%E7%BA%BF\n",
        "micro_avg = True  #@param {type:\"boolean\"}\n",
        "marco_avg = False  #@param {type:\"boolean\"}\n",
        "\n",
        "# 分別算出每一類別的 FPR(假陽率) TPR(真陽率) AUC(roc_curve底下的面積)\n",
        "N_CLASSES = len(CLASSES)\n",
        "fpr = dict()\n",
        "tpr = dict()\n",
        "lw = 2\n",
        "roc_auc = dict()\n",
        "for i in range(N_CLASSES):\n",
        "    fpr[i], tpr[i], _ = roc_curve(y_true[:, i], y_pred[:, i])\n",
        "    roc_auc[i] = auc(fpr[i], tpr[i])\n",
        "\n",
        "if micro_avg == True:\n",
        "    # 計算 微觀平均曲線\n",
        "    # Compute micro-average ROC curve and ROC area\n",
        "    fpr[\"micro\"], tpr[\"micro\"], _ = roc_curve(y_true.ravel(), y_pred.ravel())\n",
        "    roc_auc[\"micro\"] = auc(fpr[\"micro\"], tpr[\"micro\"])\n",
        "\n",
        "if marco_avg == True:\n",
        "    # 計算 宏觀平均曲線\n",
        "    # Compute macro-average ROC curve and ROC area\n",
        "    \n",
        "    lw = 2\n",
        "    # First aggregate all false positive rates\n",
        "    all_fpr = np.unique(np.concatenate([fpr[i] for i in range(N_CLASSES)]))\n",
        "\n",
        "    # Then interpolate all ROC curves at this points\n",
        "    mean_tpr = np.zeros_like(all_fpr)\n",
        "    for i in range(N_CLASSES):\n",
        "        mean_tpr += interp(all_fpr, fpr[i], tpr[i])\n",
        "\n",
        "    # Finally average it and compute AUC\n",
        "    mean_tpr /= N_CLASSES\n",
        "\n",
        "    fpr[\"macro\"] = all_fpr\n",
        "    tpr[\"macro\"] = mean_tpr\n",
        "    roc_auc[\"macro\"] = auc(fpr[\"macro\"], tpr[\"macro\"])\n",
        "    \n",
        "\n",
        "#### 畫出所有 ROC 曲線 ####\n",
        "plt.rcParams.update({'font.size': 8})\n",
        "fig = plt.figure(figsize=(6,6))\n",
        "ax = fig.add_subplot(111)\n",
        "\n",
        "if micro_avg == True:\n",
        "    plt.plot(fpr[\"micro\"], tpr[\"micro\"],\n",
        "            label='micro-average ROC curve (area = {0:0.2f})'\n",
        "                ''.format(roc_auc[\"micro\"]),\n",
        "            color='deeppink', linestyle=':', linewidth=4)\n",
        "\n",
        "if marco_avg == True:\n",
        "    plt.plot(fpr[\"macro\"], tpr[\"macro\"],\n",
        "            label='macro-average ROC curve (area = {0:0.2f})'\n",
        "                ''.format(roc_auc[\"macro\"]),\n",
        "            color='navy', linestyle=':', linewidth=4)\n",
        "\n",
        "colors = cycle(['cornflowerblue', 'green', 'darkorange', 'red'])\n",
        "for i, color in zip(range(N_CLASSES), colors):\n",
        "    ax.plot(fpr[i], tpr[i], color=color, lw=lw,\n",
        "             label='ROC curve: {0}\\n(area = {1:0.2f})'\n",
        "             ''.format(CLASSES[i], roc_auc[i]))\n",
        "\n",
        "ax.plot([0, 1], [0, 1], 'k--', lw=lw)\n",
        "ax.set(xlim=(0.0, 1.0), ylim=(0.0, 1.0))\n",
        "ax.axis('equal')\n",
        "ax.set_xlabel('False Positive Rate (1-specificity)')\n",
        "ax.set_ylabel('True Positive Rate (sensitivity)')\n",
        "ax.set_title('Some extension of Receiver operating characteristic to multi-class')\n",
        "ax.legend(loc=\"lower right\")\n",
        "plt.show()"
      ]
    },
    {
      "cell_type": "code",
      "execution_count": 30,
      "metadata": {
        "cellView": "form",
        "id": "SSo-A3sHrKeE",
        "colab": {
          "base_uri": "https://localhost:8080/",
          "height": 1000
        },
        "outputId": "c2b680be-1f50-4dda-942e-cc0d1c23e904"
      },
      "outputs": [
        {
          "output_type": "display_data",
          "data": {
            "text/plain": [
              "<Figure size 640x480 with 0 Axes>"
            ]
          },
          "metadata": {}
        },
        {
          "output_type": "display_data",
          "data": {
            "text/plain": [
              "<Figure size 500x500 with 1 Axes>"
            ],
            "image/png": "[encoded data removed]"
          },
          "metadata": {}
        },
        {
          "output_type": "display_data",
          "data": {
            "text/plain": [
              "<Figure size 640x480 with 0 Axes>"
            ]
          },
          "metadata": {}
        },
        {
          "output_type": "display_data",
          "data": {
            "text/plain": [
              "<Figure size 500x500 with 1 Axes>"
            ],
            "image/png": "[encoded data removed]"
          },
          "metadata": {}
        }
      ],
      "source": [
        "#@title 畫出 混淆矩陣 confusion matrix\n",
        "class_names = CLASSES\n",
        "plt.rcParams.update({'font.size': 8})\n",
        "\n",
        "def plot_confusion_matrix(cm, classes,\n",
        "                          normalize=False,\n",
        "                          title='Confusion matrix',\n",
        "                          cmap=plt.cm.Blues):\n",
        "    \"\"\"\n",
        "    This function prints and plots the confusion matrix.\n",
        "    Normalization can be applied by setting `normalize=True`.\n",
        "    \"\"\"\n",
        "    if normalize:\n",
        "        cm = cm.astype('float') / cm.sum(axis=1)[:, np.newaxis]\n",
        "#         print(\"Normalized confusion matrix\")\n",
        "    else:\n",
        "#         print('Confusion matrix, without normalization')\n",
        "        pass\n",
        "#     print(cm)\n",
        "\n",
        "    fig = plt.figure(figsize=(5,5))\n",
        "    ax = fig.add_subplot(111)\n",
        "    ax.imshow(cm, interpolation='nearest', cmap=cmap)\n",
        "    ax.set_title(title)\n",
        "#     plt.colorbar()\n",
        "    tick_marks = np.arange(len(classes))\n",
        "    ax.axis('equal')\n",
        "    plt.xticks(tick_marks, classes, rotation='vertical')\n",
        "    plt.yticks(tick_marks, classes)\n",
        "\n",
        "    fmt = '.4f' if normalize else 'd'\n",
        "    thresh = cm.max() / 2.\n",
        "    for i, j in product(range(cm.shape[0]), range(cm.shape[1])):\n",
        "        ax.text(j, i, format(cm[i, j], fmt),\n",
        "                 horizontalalignment=\"center\",\n",
        "                 color=\"white\" if cm[i, j] > thresh else \"black\")\n",
        "\n",
        "    ax.set_ylabel('Reference')\n",
        "    ax.set_xlabel('Predicted')\n",
        "    plt.tight_layout()\n",
        "\n",
        "# Compute confusion matrix\n",
        "cnf_matrix = confusion_matrix(y_true.argmax(axis=1), y_pred.argmax(axis=1))  #\n",
        "np.set_printoptions(precision=2)\n",
        "\n",
        "# Plot non-normalized confusion matrix and savefig\n",
        "plt.figure()\n",
        "plot_confusion_matrix(cnf_matrix, classes=class_names,\n",
        "                      title='Confusion matrix, without normalization')\n",
        "plt.show()\n",
        "# Plot normalized confusion matrix and savefig\n",
        "plt.figure()\n",
        "plot_confusion_matrix(cnf_matrix, classes=class_names, normalize=True,\n",
        "                      title='Normalized confusion matrix')\n",
        "plt.show()"
      ]
    },
    {
      "cell_type": "code",
      "execution_count": 31,
      "metadata": {
        "id": "XQPUp-RarKeE",
        "colab": {
          "base_uri": "https://localhost:8080/"
        },
        "outputId": "73d6e9b7-daf2-4390-ca8a-d753d1be6328"
      },
      "outputs": [
        {
          "output_type": "stream",
          "name": "stdout",
          "text": [
            "                            precision    recall  f1-score   support\n",
            "\n",
            "               Phonotrauma     0.8133    0.5701    0.6703       107\n",
            "Incomplete glottic closure     0.5385    0.3182    0.4000        44\n",
            "               Vocal palsy     0.5610    0.6765    0.6133        34\n",
            "                  Neoplasm     0.1364    0.6667    0.2264         9\n",
            "                    Normal     0.1429    0.3333    0.2000         6\n",
            "\n",
            "                  accuracy                         0.5300       200\n",
            "                 macro avg     0.4384    0.5129    0.4220       200\n",
            "              weighted avg     0.6594    0.5300    0.5671       200\n",
            "\n"
          ]
        }
      ],
      "source": [
        "#@title 多分類報告 classification report\n",
        "report = classification_report(y_true.argmax(axis=1), y_pred.argmax(axis=1), target_names=CLASSES, digits=4)\n",
        "print(report)"
      ]
    },
    {
      "cell_type": "code",
      "execution_count": 32,
      "metadata": {
        "id": "g-yuY8dHrKeF",
        "colab": {
          "base_uri": "https://localhost:8080/"
        },
        "outputId": "bd20ce84-0a9a-4cf4-b458-ade94de3f02d"
      },
      "outputs": [
        {
          "output_type": "stream",
          "name": "stdout",
          "text": [
            "Validation UAR (Unweighted Average Recall) : 0.5129491728722075\n"
          ]
        }
      ],
      "source": [
        "#@title UAR (Unweighted Average Recall) 5個分類的的recall做平均\n",
        "uar = recall_score(y_true.argmax(axis=1), y_pred.argmax(axis=1), average='macro')\n",
        "print(\"Validation UAR (Unweighted Average Recall) :\", uar)"
      ]
    },
    {
      "cell_type": "code",
      "execution_count": 32,
      "metadata": {
        "id": "JNTnhhDHqtIR"
      },
      "outputs": [],
      "source": []
    },
    {
      "cell_type": "markdown",
      "metadata": {
        "id": "gp8Otk8SlKPM"
      },
      "source": [
        "# 5 預測 Prediction (Test Data)\n",
        "對測試資料作答 (public dataset / private dataset)"
      ]
    },
    {
      "cell_type": "markdown",
      "metadata": {
        "id": "O6i4tu9lk9RC"
      },
      "source": [
        "## 5.1 資料處理\n",
        "(必須和訓練資料的處理流程相同)"
      ]
    },
    {
      "cell_type": "code",
      "execution_count": 33,
      "metadata": {
        "id": "N2rIf5eFlG8Z",
        "colab": {
          "base_uri": "https://localhost:8080/",
          "height": 540
        },
        "outputId": "8839d543-dc40-4f65-d7fa-a98bd65b8bfc"
      },
      "outputs": [
        {
          "output_type": "execute_result",
          "data": {
            "text/plain": [
              "          ID  Sex  Age  Narrow pitch range  Decreased volume  Fatigue  \\\n",
              "0    1301skj    2   27                   0                 1        1   \n",
              "1    1100j0u    1   50                   0                 0        0   \n",
              "2    0G00r5c    1   41                   1                 1        0   \n",
              "3    1202v5m    2   48                   1                 0        0   \n",
              "4    0C01365    2   43                   0                 1        0   \n",
              "..       ...  ...  ...                 ...               ...      ...   \n",
              "995  1001abu    2   29                   1                 1        1   \n",
              "996  1002ss4    2   77                   1                 1        0   \n",
              "997  0W011bi    1   44                   0                 1        1   \n",
              "998  0R00num    1   63                   0                 0        1   \n",
              "999  0Y02gae    2   30                   1                 1        0   \n",
              "\n",
              "     Dryness  Lumping  heartburn  Choking  ...  Onset of dysphonia   \\\n",
              "0          1        1          0        0  ...                    2   \n",
              "1          0        0          0        0  ...                    1   \n",
              "2          0        0          0        0  ...                    5   \n",
              "3          1        1          0        0  ...                    2   \n",
              "4          1        0          1        1  ...                    1   \n",
              "..       ...      ...        ...      ...  ...                  ...   \n",
              "995        0        0          0        0  ...                    1   \n",
              "996        0        0          0        0  ...                    2   \n",
              "997        1        1          1        0  ...                    3   \n",
              "998        1        0          0        1  ...                    2   \n",
              "999        0        0          0        0  ...                    2   \n",
              "\n",
              "     Noise at work  Occupational vocal demand  Diabetes  Hypertension  CAD  \\\n",
              "0                3                          1         0             0    0   \n",
              "1                2                          2         0             1    0   \n",
              "2                2                          3         0             0    0   \n",
              "3                1                          4         0             0    0   \n",
              "4                2                          1         0             0    1   \n",
              "..             ...                        ...       ...           ...  ...   \n",
              "995              2                          1         0             0    0   \n",
              "996              1                          2         0             0    0   \n",
              "997              1                          1         0             0    0   \n",
              "998              2                          2         0             0    0   \n",
              "999              3                          1         0             0    0   \n",
              "\n",
              "     Head and Neck Cancer  Head injury  CVA  Voice handicap index - 10  \n",
              "0                       0            0    0                       30.0  \n",
              "1                       0            0    0                       30.0  \n",
              "2                       0            0    0                       29.0  \n",
              "3                       0            0    0                        5.0  \n",
              "4                       0            0    0                       27.0  \n",
              "..                    ...          ...  ...                        ...  \n",
              "995                     0            0    0                       39.0  \n",
              "996                     0            0    0                       21.0  \n",
              "997                     0            0    0                       27.0  \n",
              "998                     0            0    0                       40.0  \n",
              "999                     0            0    0                       17.0  \n",
              "\n",
              "[1000 rows x 27 columns]"
            ],
            "text/html": [
              "\n",
              "  <div id=\"df-034a635b-a97a-4d97-bac7-17f1e2a00517\">\n",
              "    <div class=\"colab-df-container\">\n",
              "      <div>\n",
              "<style scoped>\n",
              "    .dataframe tbody tr th:only-of-type {\n",
              "        vertical-align: middle;\n",
              "    }\n",
              "\n",
              "    .dataframe tbody tr th {\n",
              "        vertical-align: top;\n",
              "    }\n",
              "\n",
              "    .dataframe thead th {\n",
              "        text-align: right;\n",
              "    }\n",
              "</style>\n",
              "<table border=\"1\" class=\"dataframe\">\n",
              "  <thead>\n",
              "    <tr style=\"text-align: right;\">\n",
              "      <th></th>\n",
              "      <th>ID</th>\n",
              "      <th>Sex</th>\n",
              "      <th>Age</th>\n",
              "      <th>Narrow pitch range</th>\n",
              "      <th>Decreased volume</th>\n",
              "      <th>Fatigue</th>\n",
              "      <th>Dryness</th>\n",
              "      <th>Lumping</th>\n",
              "      <th>heartburn</th>\n",
              "      <th>Choking</th>\n",
              "      <th>...</th>\n",
              "      <th>Onset of dysphonia</th>\n",
              "      <th>Noise at work</th>\n",
              "      <th>Occupational vocal demand</th>\n",
              "      <th>Diabetes</th>\n",
              "      <th>Hypertension</th>\n",
              "      <th>CAD</th>\n",
              "      <th>Head and Neck Cancer</th>\n",
              "      <th>Head injury</th>\n",
              "      <th>CVA</th>\n",
              "      <th>Voice handicap index - 10</th>\n",
              "    </tr>\n",
              "  </thead>\n",
              "  <tbody>\n",
              "    <tr>\n",
              "      <th>0</th>\n",
              "      <td>1301skj</td>\n",
              "      <td>2</td>\n",
              "      <td>27</td>\n",
              "      <td>0</td>\n",
              "      <td>1</td>\n",
              "      <td>1</td>\n",
              "      <td>1</td>\n",
              "      <td>1</td>\n",
              "      <td>0</td>\n",
              "      <td>0</td>\n",
              "      <td>...</td>\n",
              "      <td>2</td>\n",
              "      <td>3</td>\n",
              "      <td>1</td>\n",
              "      <td>0</td>\n",
              "      <td>0</td>\n",
              "      <td>0</td>\n",
              "      <td>0</td>\n",
              "      <td>0</td>\n",
              "      <td>0</td>\n",
              "      <td>30.0</td>\n",
              "    </tr>\n",
              "    <tr>\n",
              "      <th>1</th>\n",
              "      <td>1100j0u</td>\n",
              "      <td>1</td>\n",
              "      <td>50</td>\n",
              "      <td>0</td>\n",
              "      <td>0</td>\n",
              "      <td>0</td>\n",
              "      <td>0</td>\n",
              "      <td>0</td>\n",
              "      <td>0</td>\n",
              "      <td>0</td>\n",
              "      <td>...</td>\n",
              "      <td>1</td>\n",
              "      <td>2</td>\n",
              "      <td>2</td>\n",
              "      <td>0</td>\n",
              "      <td>1</td>\n",
              "      <td>0</td>\n",
              "      <td>0</td>\n",
              "      <td>0</td>\n",
              "      <td>0</td>\n",
              "      <td>30.0</td>\n",
              "    </tr>\n",
              "    <tr>\n",
              "      <th>2</th>\n",
              "      <td>0G00r5c</td>\n",
              "      <td>1</td>\n",
              "      <td>41</td>\n",
              "      <td>1</td>\n",
              "      <td>1</td>\n",
              "      <td>0</td>\n",
              "      <td>0</td>\n",
              "      <td>0</td>\n",
              "      <td>0</td>\n",
              "      <td>0</td>\n",
              "      <td>...</td>\n",
              "      <td>5</td>\n",
              "      <td>2</td>\n",
              "      <td>3</td>\n",
              "      <td>0</td>\n",
              "      <td>0</td>\n",
              "      <td>0</td>\n",
              "      <td>0</td>\n",
              "      <td>0</td>\n",
              "      <td>0</td>\n",
              "      <td>29.0</td>\n",
              "    </tr>\n",
              "    <tr>\n",
              "      <th>3</th>\n",
              "      <td>1202v5m</td>\n",
              "      <td>2</td>\n",
              "      <td>48</td>\n",
              "      <td>1</td>\n",
              "      <td>0</td>\n",
              "      <td>0</td>\n",
              "      <td>1</td>\n",
              "      <td>1</td>\n",
              "      <td>0</td>\n",
              "      <td>0</td>\n",
              "      <td>...</td>\n",
              "      <td>2</td>\n",
              "      <td>1</td>\n",
              "      <td>4</td>\n",
              "      <td>0</td>\n",
              "      <td>0</td>\n",
              "      <td>0</td>\n",
              "      <td>0</td>\n",
              "      <td>0</td>\n",
              "      <td>0</td>\n",
              "      <td>5.0</td>\n",
              "    </tr>\n",
              "    <tr>\n",
              "      <th>4</th>\n",
              "      <td>0C01365</td>\n",
              "      <td>2</td>\n",
              "      <td>43</td>\n",
              "      <td>0</td>\n",
              "      <td>1</td>\n",
              "      <td>0</td>\n",
              "      <td>1</td>\n",
              "      <td>0</td>\n",
              "      <td>1</td>\n",
              "      <td>1</td>\n",
              "      <td>...</td>\n",
              "      <td>1</td>\n",
              "      <td>2</td>\n",
              "      <td>1</td>\n",
              "      <td>0</td>\n",
              "      <td>0</td>\n",
              "      <td>1</td>\n",
              "      <td>0</td>\n",
              "      <td>0</td>\n",
              "      <td>0</td>\n",
              "      <td>27.0</td>\n",
              "    </tr>\n",
              "    <tr>\n",
              "      <th>...</th>\n",
              "      <td>...</td>\n",
              "      <td>...</td>\n",
              "      <td>...</td>\n",
              "      <td>...</td>\n",
              "      <td>...</td>\n",
              "      <td>...</td>\n",
              "      <td>...</td>\n",
              "      <td>...</td>\n",
              "      <td>...</td>\n",
              "      <td>...</td>\n",
              "      <td>...</td>\n",
              "      <td>...</td>\n",
              "      <td>...</td>\n",
              "      <td>...</td>\n",
              "      <td>...</td>\n",
              "      <td>...</td>\n",
              "      <td>...</td>\n",
              "      <td>...</td>\n",
              "      <td>...</td>\n",
              "      <td>...</td>\n",
              "      <td>...</td>\n",
              "    </tr>\n",
              "    <tr>\n",
              "      <th>995</th>\n",
              "      <td>1001abu</td>\n",
              "      <td>2</td>\n",
              "      <td>29</td>\n",
              "      <td>1</td>\n",
              "      <td>1</td>\n",
              "      <td>1</td>\n",
              "      <td>0</td>\n",
              "      <td>0</td>\n",
              "      <td>0</td>\n",
              "      <td>0</td>\n",
              "      <td>...</td>\n",
              "      <td>1</td>\n",
              "      <td>2</td>\n",
              "      <td>1</td>\n",
              "      <td>0</td>\n",
              "      <td>0</td>\n",
              "      <td>0</td>\n",
              "      <td>0</td>\n",
              "      <td>0</td>\n",
              "      <td>0</td>\n",
              "      <td>39.0</td>\n",
              "    </tr>\n",
              "    <tr>\n",
              "      <th>996</th>\n",
              "      <td>1002ss4</td>\n",
              "      <td>2</td>\n",
              "      <td>77</td>\n",
              "      <td>1</td>\n",
              "      <td>1</td>\n",
              "      <td>0</td>\n",
              "      <td>0</td>\n",
              "      <td>0</td>\n",
              "      <td>0</td>\n",
              "      <td>0</td>\n",
              "      <td>...</td>\n",
              "      <td>2</td>\n",
              "      <td>1</td>\n",
              "      <td>2</td>\n",
              "      <td>0</td>\n",
              "      <td>0</td>\n",
              "      <td>0</td>\n",
              "      <td>0</td>\n",
              "      <td>0</td>\n",
              "      <td>0</td>\n",
              "      <td>21.0</td>\n",
              "    </tr>\n",
              "    <tr>\n",
              "      <th>997</th>\n",
              "      <td>0W011bi</td>\n",
              "      <td>1</td>\n",
              "      <td>44</td>\n",
              "      <td>0</td>\n",
              "      <td>1</td>\n",
              "      <td>1</td>\n",
              "      <td>1</td>\n",
              "      <td>1</td>\n",
              "      <td>1</td>\n",
              "      <td>0</td>\n",
              "      <td>...</td>\n",
              "      <td>3</td>\n",
              "      <td>1</td>\n",
              "      <td>1</td>\n",
              "      <td>0</td>\n",
              "      <td>0</td>\n",
              "      <td>0</td>\n",
              "      <td>0</td>\n",
              "      <td>0</td>\n",
              "      <td>0</td>\n",
              "      <td>27.0</td>\n",
              "    </tr>\n",
              "    <tr>\n",
              "      <th>998</th>\n",
              "      <td>0R00num</td>\n",
              "      <td>1</td>\n",
              "      <td>63</td>\n",
              "      <td>0</td>\n",
              "      <td>0</td>\n",
              "      <td>1</td>\n",
              "      <td>1</td>\n",
              "      <td>0</td>\n",
              "      <td>0</td>\n",
              "      <td>1</td>\n",
              "      <td>...</td>\n",
              "      <td>2</td>\n",
              "      <td>2</td>\n",
              "      <td>2</td>\n",
              "      <td>0</td>\n",
              "      <td>0</td>\n",
              "      <td>0</td>\n",
              "      <td>0</td>\n",
              "      <td>0</td>\n",
              "      <td>0</td>\n",
              "      <td>40.0</td>\n",
              "    </tr>\n",
              "    <tr>\n",
              "      <th>999</th>\n",
              "      <td>0Y02gae</td>\n",
              "      <td>2</td>\n",
              "      <td>30</td>\n",
              "      <td>1</td>\n",
              "      <td>1</td>\n",
              "      <td>0</td>\n",
              "      <td>0</td>\n",
              "      <td>0</td>\n",
              "      <td>0</td>\n",
              "      <td>0</td>\n",
              "      <td>...</td>\n",
              "      <td>2</td>\n",
              "      <td>3</td>\n",
              "      <td>1</td>\n",
              "      <td>0</td>\n",
              "      <td>0</td>\n",
              "      <td>0</td>\n",
              "      <td>0</td>\n",
              "      <td>0</td>\n",
              "      <td>0</td>\n",
              "      <td>17.0</td>\n",
              "    </tr>\n",
              "  </tbody>\n",
              "</table>\n",
              "<p>1000 rows × 27 columns</p>\n",
              "</div>\n",
              "      <button class=\"colab-df-convert\" onclick=\"convertToInteractive('df-034a635b-a97a-4d97-bac7-17f1e2a00517')\"\n",
              "              title=\"Convert this dataframe to an interactive table.\"\n",
              "              style=\"display:none;\">\n",
              "        \n",
              "  <svg xmlns=\"http://www.w3.org/2000/svg\" height=\"24px\"viewBox=\"0 0 24 24\"\n",
              "       width=\"24px\">\n",
              "    <path d=\"M0 0h24v24H0V0z\" fill=\"none\"/>\n",
              "    <path d=\"M18.56 5.44l.94 2.06.94-2.06 2.06-.94-2.06-.94-.94-2.06-.94 2.06-2.06.94zm-11 1L8.5 8.5l.94-2.06 2.06-.94-2.06-.94L8.5 2.5l-.94 2.06-2.06.94zm10 10l.94 2.06.94-2.06 2.06-.94-2.06-.94-.94-2.06-.94 2.06-2.06.94z\"/><path d=\"M17.41 7.96l-1.37-1.37c-.4-.4-.92-.59-1.43-.59-.52 0-1.04.2-1.43.59L10.3 9.45l-7.72 7.72c-.78.78-.78 2.05 0 2.83L4 21.41c.39.39.9.59 1.41.59.51 0 1.02-.2 1.41-.59l7.78-7.78 2.81-2.81c.8-.78.8-2.07 0-2.86zM5.41 20L4 18.59l7.72-7.72 1.47 1.35L5.41 20z\"/>\n",
              "  </svg>\n",
              "      </button>\n",
              "      \n",
              "  <style>\n",
              "    .colab-df-container {\n",
              "      display:flex;\n",
              "      flex-wrap:wrap;\n",
              "      gap: 12px;\n",
              "    }\n",
              "\n",
              "    .colab-df-convert {\n",
              "      background-color: #E8F0FE;\n",
              "      border: none;\n",
              "      border-radius: 50%;\n",
              "      cursor: pointer;\n",
              "      display: none;\n",
              "      fill: #1967D2;\n",
              "      height: 32px;\n",
              "      padding: 0 0 0 0;\n",
              "      width: 32px;\n",
              "    }\n",
              "\n",
              "    .colab-df-convert:hover {\n",
              "      background-color: #E2EBFA;\n",
              "      box-shadow: 0px 1px 2px rgba(60, 64, 67, 0.3), 0px 1px 3px 1px rgba(60, 64, 67, 0.15);\n",
              "      fill: #174EA6;\n",
              "    }\n",
              "\n",
              "    [theme=dark] .colab-df-convert {\n",
              "      background-color: #3B4455;\n",
              "      fill: #D2E3FC;\n",
              "    }\n",
              "\n",
              "    [theme=dark] .colab-df-convert:hover {\n",
              "      background-color: #434B5C;\n",
              "      box-shadow: 0px 1px 3px 1px rgba(0, 0, 0, 0.15);\n",
              "      filter: drop-shadow(0px 1px 2px rgba(0, 0, 0, 0.3));\n",
              "      fill: #FFFFFF;\n",
              "    }\n",
              "  </style>\n",
              "\n",
              "      <script>\n",
              "        const buttonEl =\n",
              "          document.querySelector('#df-034a635b-a97a-4d97-bac7-17f1e2a00517 button.colab-df-convert');\n",
              "        buttonEl.style.display =\n",
              "          google.colab.kernel.accessAllowed ? 'block' : 'none';\n",
              "\n",
              "        async function convertToInteractive(key) {\n",
              "          const element = document.querySelector('#df-034a635b-a97a-4d97-bac7-17f1e2a00517');\n",
              "          const dataTable =\n",
              "            await google.colab.kernel.invokeFunction('convertToInteractive',\n",
              "                                                     [key], {});\n",
              "          if (!dataTable) return;\n",
              "\n",
              "          const docLinkHtml = 'Like what you see? Visit the ' +\n",
              "            '<a target=\"_blank\" href=https://colab.research.google.com/notebooks/data_table.ipynb>data table notebook</a>'\n",
              "            + ' to learn more about interactive tables.';\n",
              "          element.innerHTML = '';\n",
              "          dataTable['output_type'] = 'display_data';\n",
              "          await google.colab.output.renderOutput(dataTable, element);\n",
              "          const docLink = document.createElement('div');\n",
              "          docLink.innerHTML = docLinkHtml;\n",
              "          element.appendChild(docLink);\n",
              "        }\n",
              "      </script>\n",
              "    </div>\n",
              "  </div>\n",
              "  "
            ]
          },
          "metadata": {},
          "execution_count": 33
        }
      ],
      "source": [
        "# 讀取資料表\n",
        "df = pd.read_csv(\"/content/gdrive/Shareddrives/1112_AI智慧醫療三日工作坊/教材/Private Testing Dataset/test_datalist_public+private.csv\")\n",
        "df"
      ]
    },
    {
      "cell_type": "code",
      "execution_count": 34,
      "metadata": {
        "id": "H4034auSlxTd",
        "colab": {
          "base_uri": "https://localhost:8080/",
          "height": 522
        },
        "outputId": "2f460936-26bf-4238-e7e6-ad4d54b4bf14"
      },
      "outputs": [
        {
          "output_type": "execute_result",
          "data": {
            "text/plain": [
              "          ID   Age  Narrow pitch range  Decreased volume  Fatigue  Dryness  \\\n",
              "0    1301skj  0.27                   0                 1        1        1   \n",
              "1    1100j0u  0.50                   0                 0        0        0   \n",
              "2    0G00r5c  0.41                   1                 1        0        0   \n",
              "3    1202v5m  0.48                   1                 0        0        1   \n",
              "4    0C01365  0.43                   0                 1        0        1   \n",
              "..       ...   ...                 ...               ...      ...      ...   \n",
              "995  1001abu  0.29                   1                 1        1        0   \n",
              "996  1002ss4  0.77                   1                 1        0        0   \n",
              "997  0W011bi  0.44                   0                 1        1        1   \n",
              "998  0R00num  0.63                   0                 0        1        1   \n",
              "999  0Y02gae  0.30                   1                 1        0        0   \n",
              "\n",
              "     Lumping  heartburn  Choking  Eye dryness  ...  Onset of dysphonia _1  \\\n",
              "0          1          0        0            0  ...                      0   \n",
              "1          0          0        0            0  ...                      1   \n",
              "2          0          0        0            1  ...                      0   \n",
              "3          1          0        0            0  ...                      0   \n",
              "4          0          1        1            0  ...                      1   \n",
              "..       ...        ...      ...          ...  ...                    ...   \n",
              "995        0          0        0            1  ...                      1   \n",
              "996        0          0        0            0  ...                      0   \n",
              "997        1          1        0            0  ...                      0   \n",
              "998        0          0        1            0  ...                      0   \n",
              "999        0          0        0            0  ...                      0   \n",
              "\n",
              "     Onset of dysphonia _2  Onset of dysphonia _3  Onset of dysphonia _4  \\\n",
              "0                        1                      0                      0   \n",
              "1                        0                      0                      0   \n",
              "2                        0                      0                      0   \n",
              "3                        1                      0                      0   \n",
              "4                        0                      0                      0   \n",
              "..                     ...                    ...                    ...   \n",
              "995                      0                      0                      0   \n",
              "996                      1                      0                      0   \n",
              "997                      0                      1                      0   \n",
              "998                      1                      0                      0   \n",
              "999                      1                      0                      0   \n",
              "\n",
              "     Onset of dysphonia _5  Occupational vocal demand_1  \\\n",
              "0                        0                            1   \n",
              "1                        0                            0   \n",
              "2                        1                            0   \n",
              "3                        0                            0   \n",
              "4                        0                            1   \n",
              "..                     ...                          ...   \n",
              "995                      0                            1   \n",
              "996                      0                            0   \n",
              "997                      0                            1   \n",
              "998                      0                            0   \n",
              "999                      0                            1   \n",
              "\n",
              "     Occupational vocal demand_2  Occupational vocal demand_3  \\\n",
              "0                              0                            0   \n",
              "1                              1                            0   \n",
              "2                              0                            1   \n",
              "3                              0                            0   \n",
              "4                              0                            0   \n",
              "..                           ...                          ...   \n",
              "995                            0                            0   \n",
              "996                            1                            0   \n",
              "997                            0                            0   \n",
              "998                            1                            0   \n",
              "999                            0                            0   \n",
              "\n",
              "     Occupational vocal demand_4  Occupational vocal demand  \n",
              "0                              0                   1.000000  \n",
              "1                              0                   0.666667  \n",
              "2                              0                   0.333333  \n",
              "3                              1                   0.000000  \n",
              "4                              0                   1.000000  \n",
              "..                           ...                        ...  \n",
              "995                            0                   1.000000  \n",
              "996                            0                   0.666667  \n",
              "997                            0                   1.000000  \n",
              "998                            0                   0.666667  \n",
              "999                            0                   1.000000  \n",
              "\n",
              "[1000 rows x 42 columns]"
            ],
            "text/html": [
              "\n",
              "  <div id=\"df-c3e3ec22-8c3f-44fe-83c6-a2ee19a7970b\">\n",
              "    <div class=\"colab-df-container\">\n",
              "      <div>\n",
              "<style scoped>\n",
              "    .dataframe tbody tr th:only-of-type {\n",
              "        vertical-align: middle;\n",
              "    }\n",
              "\n",
              "    .dataframe tbody tr th {\n",
              "        vertical-align: top;\n",
              "    }\n",
              "\n",
              "    .dataframe thead th {\n",
              "        text-align: right;\n",
              "    }\n",
              "</style>\n",
              "<table border=\"1\" class=\"dataframe\">\n",
              "  <thead>\n",
              "    <tr style=\"text-align: right;\">\n",
              "      <th></th>\n",
              "      <th>ID</th>\n",
              "      <th>Age</th>\n",
              "      <th>Narrow pitch range</th>\n",
              "      <th>Decreased volume</th>\n",
              "      <th>Fatigue</th>\n",
              "      <th>Dryness</th>\n",
              "      <th>Lumping</th>\n",
              "      <th>heartburn</th>\n",
              "      <th>Choking</th>\n",
              "      <th>Eye dryness</th>\n",
              "      <th>...</th>\n",
              "      <th>Onset of dysphonia _1</th>\n",
              "      <th>Onset of dysphonia _2</th>\n",
              "      <th>Onset of dysphonia _3</th>\n",
              "      <th>Onset of dysphonia _4</th>\n",
              "      <th>Onset of dysphonia _5</th>\n",
              "      <th>Occupational vocal demand_1</th>\n",
              "      <th>Occupational vocal demand_2</th>\n",
              "      <th>Occupational vocal demand_3</th>\n",
              "      <th>Occupational vocal demand_4</th>\n",
              "      <th>Occupational vocal demand</th>\n",
              "    </tr>\n",
              "  </thead>\n",
              "  <tbody>\n",
              "    <tr>\n",
              "      <th>0</th>\n",
              "      <td>1301skj</td>\n",
              "      <td>0.27</td>\n",
              "      <td>0</td>\n",
              "      <td>1</td>\n",
              "      <td>1</td>\n",
              "      <td>1</td>\n",
              "      <td>1</td>\n",
              "      <td>0</td>\n",
              "      <td>0</td>\n",
              "      <td>0</td>\n",
              "      <td>...</td>\n",
              "      <td>0</td>\n",
              "      <td>1</td>\n",
              "      <td>0</td>\n",
              "      <td>0</td>\n",
              "      <td>0</td>\n",
              "      <td>1</td>\n",
              "      <td>0</td>\n",
              "      <td>0</td>\n",
              "      <td>0</td>\n",
              "      <td>1.000000</td>\n",
              "    </tr>\n",
              "    <tr>\n",
              "      <th>1</th>\n",
              "      <td>1100j0u</td>\n",
              "      <td>0.50</td>\n",
              "      <td>0</td>\n",
              "      <td>0</td>\n",
              "      <td>0</td>\n",
              "      <td>0</td>\n",
              "      <td>0</td>\n",
              "      <td>0</td>\n",
              "      <td>0</td>\n",
              "      <td>0</td>\n",
              "      <td>...</td>\n",
              "      <td>1</td>\n",
              "      <td>0</td>\n",
              "      <td>0</td>\n",
              "      <td>0</td>\n",
              "      <td>0</td>\n",
              "      <td>0</td>\n",
              "      <td>1</td>\n",
              "      <td>0</td>\n",
              "      <td>0</td>\n",
              "      <td>0.666667</td>\n",
              "    </tr>\n",
              "    <tr>\n",
              "      <th>2</th>\n",
              "      <td>0G00r5c</td>\n",
              "      <td>0.41</td>\n",
              "      <td>1</td>\n",
              "      <td>1</td>\n",
              "      <td>0</td>\n",
              "      <td>0</td>\n",
              "      <td>0</td>\n",
              "      <td>0</td>\n",
              "      <td>0</td>\n",
              "      <td>1</td>\n",
              "      <td>...</td>\n",
              "      <td>0</td>\n",
              "      <td>0</td>\n",
              "      <td>0</td>\n",
              "      <td>0</td>\n",
              "      <td>1</td>\n",
              "      <td>0</td>\n",
              "      <td>0</td>\n",
              "      <td>1</td>\n",
              "      <td>0</td>\n",
              "      <td>0.333333</td>\n",
              "    </tr>\n",
              "    <tr>\n",
              "      <th>3</th>\n",
              "      <td>1202v5m</td>\n",
              "      <td>0.48</td>\n",
              "      <td>1</td>\n",
              "      <td>0</td>\n",
              "      <td>0</td>\n",
              "      <td>1</td>\n",
              "      <td>1</td>\n",
              "      <td>0</td>\n",
              "      <td>0</td>\n",
              "      <td>0</td>\n",
              "      <td>...</td>\n",
              "      <td>0</td>\n",
              "      <td>1</td>\n",
              "      <td>0</td>\n",
              "      <td>0</td>\n",
              "      <td>0</td>\n",
              "      <td>0</td>\n",
              "      <td>0</td>\n",
              "      <td>0</td>\n",
              "      <td>1</td>\n",
              "      <td>0.000000</td>\n",
              "    </tr>\n",
              "    <tr>\n",
              "      <th>4</th>\n",
              "      <td>0C01365</td>\n",
              "      <td>0.43</td>\n",
              "      <td>0</td>\n",
              "      <td>1</td>\n",
              "      <td>0</td>\n",
              "      <td>1</td>\n",
              "      <td>0</td>\n",
              "      <td>1</td>\n",
              "      <td>1</td>\n",
              "      <td>0</td>\n",
              "      <td>...</td>\n",
              "      <td>1</td>\n",
              "      <td>0</td>\n",
              "      <td>0</td>\n",
              "      <td>0</td>\n",
              "      <td>0</td>\n",
              "      <td>1</td>\n",
              "      <td>0</td>\n",
              "      <td>0</td>\n",
              "      <td>0</td>\n",
              "      <td>1.000000</td>\n",
              "    </tr>\n",
              "    <tr>\n",
              "      <th>...</th>\n",
              "      <td>...</td>\n",
              "      <td>...</td>\n",
              "      <td>...</td>\n",
              "      <td>...</td>\n",
              "      <td>...</td>\n",
              "      <td>...</td>\n",
              "      <td>...</td>\n",
              "      <td>...</td>\n",
              "      <td>...</td>\n",
              "      <td>...</td>\n",
              "      <td>...</td>\n",
              "      <td>...</td>\n",
              "      <td>...</td>\n",
              "      <td>...</td>\n",
              "      <td>...</td>\n",
              "      <td>...</td>\n",
              "      <td>...</td>\n",
              "      <td>...</td>\n",
              "      <td>...</td>\n",
              "      <td>...</td>\n",
              "      <td>...</td>\n",
              "    </tr>\n",
              "    <tr>\n",
              "      <th>995</th>\n",
              "      <td>1001abu</td>\n",
              "      <td>0.29</td>\n",
              "      <td>1</td>\n",
              "      <td>1</td>\n",
              "      <td>1</td>\n",
              "      <td>0</td>\n",
              "      <td>0</td>\n",
              "      <td>0</td>\n",
              "      <td>0</td>\n",
              "      <td>1</td>\n",
              "      <td>...</td>\n",
              "      <td>1</td>\n",
              "      <td>0</td>\n",
              "      <td>0</td>\n",
              "      <td>0</td>\n",
              "      <td>0</td>\n",
              "      <td>1</td>\n",
              "      <td>0</td>\n",
              "      <td>0</td>\n",
              "      <td>0</td>\n",
              "      <td>1.000000</td>\n",
              "    </tr>\n",
              "    <tr>\n",
              "      <th>996</th>\n",
              "      <td>1002ss4</td>\n",
              "      <td>0.77</td>\n",
              "      <td>1</td>\n",
              "      <td>1</td>\n",
              "      <td>0</td>\n",
              "      <td>0</td>\n",
              "      <td>0</td>\n",
              "      <td>0</td>\n",
              "      <td>0</td>\n",
              "      <td>0</td>\n",
              "      <td>...</td>\n",
              "      <td>0</td>\n",
              "      <td>1</td>\n",
              "      <td>0</td>\n",
              "      <td>0</td>\n",
              "      <td>0</td>\n",
              "      <td>0</td>\n",
              "      <td>1</td>\n",
              "      <td>0</td>\n",
              "      <td>0</td>\n",
              "      <td>0.666667</td>\n",
              "    </tr>\n",
              "    <tr>\n",
              "      <th>997</th>\n",
              "      <td>0W011bi</td>\n",
              "      <td>0.44</td>\n",
              "      <td>0</td>\n",
              "      <td>1</td>\n",
              "      <td>1</td>\n",
              "      <td>1</td>\n",
              "      <td>1</td>\n",
              "      <td>1</td>\n",
              "      <td>0</td>\n",
              "      <td>0</td>\n",
              "      <td>...</td>\n",
              "      <td>0</td>\n",
              "      <td>0</td>\n",
              "      <td>1</td>\n",
              "      <td>0</td>\n",
              "      <td>0</td>\n",
              "      <td>1</td>\n",
              "      <td>0</td>\n",
              "      <td>0</td>\n",
              "      <td>0</td>\n",
              "      <td>1.000000</td>\n",
              "    </tr>\n",
              "    <tr>\n",
              "      <th>998</th>\n",
              "      <td>0R00num</td>\n",
              "      <td>0.63</td>\n",
              "      <td>0</td>\n",
              "      <td>0</td>\n",
              "      <td>1</td>\n",
              "      <td>1</td>\n",
              "      <td>0</td>\n",
              "      <td>0</td>\n",
              "      <td>1</td>\n",
              "      <td>0</td>\n",
              "      <td>...</td>\n",
              "      <td>0</td>\n",
              "      <td>1</td>\n",
              "      <td>0</td>\n",
              "      <td>0</td>\n",
              "      <td>0</td>\n",
              "      <td>0</td>\n",
              "      <td>1</td>\n",
              "      <td>0</td>\n",
              "      <td>0</td>\n",
              "      <td>0.666667</td>\n",
              "    </tr>\n",
              "    <tr>\n",
              "      <th>999</th>\n",
              "      <td>0Y02gae</td>\n",
              "      <td>0.30</td>\n",
              "      <td>1</td>\n",
              "      <td>1</td>\n",
              "      <td>0</td>\n",
              "      <td>0</td>\n",
              "      <td>0</td>\n",
              "      <td>0</td>\n",
              "      <td>0</td>\n",
              "      <td>0</td>\n",
              "      <td>...</td>\n",
              "      <td>0</td>\n",
              "      <td>1</td>\n",
              "      <td>0</td>\n",
              "      <td>0</td>\n",
              "      <td>0</td>\n",
              "      <td>1</td>\n",
              "      <td>0</td>\n",
              "      <td>0</td>\n",
              "      <td>0</td>\n",
              "      <td>1.000000</td>\n",
              "    </tr>\n",
              "  </tbody>\n",
              "</table>\n",
              "<p>1000 rows × 42 columns</p>\n",
              "</div>\n",
              "      <button class=\"colab-df-convert\" onclick=\"convertToInteractive('df-c3e3ec22-8c3f-44fe-83c6-a2ee19a7970b')\"\n",
              "              title=\"Convert this dataframe to an interactive table.\"\n",
              "              style=\"display:none;\">\n",
              "        \n",
              "  <svg xmlns=\"http://www.w3.org/2000/svg\" height=\"24px\"viewBox=\"0 0 24 24\"\n",
              "       width=\"24px\">\n",
              "    <path d=\"M0 0h24v24H0V0z\" fill=\"none\"/>\n",
              "    <path d=\"M18.56 5.44l.94 2.06.94-2.06 2.06-.94-2.06-.94-.94-2.06-.94 2.06-2.06.94zm-11 1L8.5 8.5l.94-2.06 2.06-.94-2.06-.94L8.5 2.5l-.94 2.06-2.06.94zm10 10l.94 2.06.94-2.06 2.06-.94-2.06-.94-.94-2.06-.94 2.06-2.06.94z\"/><path d=\"M17.41 7.96l-1.37-1.37c-.4-.4-.92-.59-1.43-.59-.52 0-1.04.2-1.43.59L10.3 9.45l-7.72 7.72c-.78.78-.78 2.05 0 2.83L4 21.41c.39.39.9.59 1.41.59.51 0 1.02-.2 1.41-.59l7.78-7.78 2.81-2.81c.8-.78.8-2.07 0-2.86zM5.41 20L4 18.59l7.72-7.72 1.47 1.35L5.41 20z\"/>\n",
              "  </svg>\n",
              "      </button>\n",
              "      \n",
              "  <style>\n",
              "    .colab-df-container {\n",
              "      display:flex;\n",
              "      flex-wrap:wrap;\n",
              "      gap: 12px;\n",
              "    }\n",
              "\n",
              "    .colab-df-convert {\n",
              "      background-color: #E8F0FE;\n",
              "      border: none;\n",
              "      border-radius: 50%;\n",
              "      cursor: pointer;\n",
              "      display: none;\n",
              "      fill: #1967D2;\n",
              "      height: 32px;\n",
              "      padding: 0 0 0 0;\n",
              "      width: 32px;\n",
              "    }\n",
              "\n",
              "    .colab-df-convert:hover {\n",
              "      background-color: #E2EBFA;\n",
              "      box-shadow: 0px 1px 2px rgba(60, 64, 67, 0.3), 0px 1px 3px 1px rgba(60, 64, 67, 0.15);\n",
              "      fill: #174EA6;\n",
              "    }\n",
              "\n",
              "    [theme=dark] .colab-df-convert {\n",
              "      background-color: #3B4455;\n",
              "      fill: #D2E3FC;\n",
              "    }\n",
              "\n",
              "    [theme=dark] .colab-df-convert:hover {\n",
              "      background-color: #434B5C;\n",
              "      box-shadow: 0px 1px 3px 1px rgba(0, 0, 0, 0.15);\n",
              "      filter: drop-shadow(0px 1px 2px rgba(0, 0, 0, 0.3));\n",
              "      fill: #FFFFFF;\n",
              "    }\n",
              "  </style>\n",
              "\n",
              "      <script>\n",
              "        const buttonEl =\n",
              "          document.querySelector('#df-c3e3ec22-8c3f-44fe-83c6-a2ee19a7970b button.colab-df-convert');\n",
              "        buttonEl.style.display =\n",
              "          google.colab.kernel.accessAllowed ? 'block' : 'none';\n",
              "\n",
              "        async function convertToInteractive(key) {\n",
              "          const element = document.querySelector('#df-c3e3ec22-8c3f-44fe-83c6-a2ee19a7970b');\n",
              "          const dataTable =\n",
              "            await google.colab.kernel.invokeFunction('convertToInteractive',\n",
              "                                                     [key], {});\n",
              "          if (!dataTable) return;\n",
              "\n",
              "          const docLinkHtml = 'Like what you see? Visit the ' +\n",
              "            '<a target=\"_blank\" href=https://colab.research.google.com/notebooks/data_table.ipynb>data table notebook</a>'\n",
              "            + ' to learn more about interactive tables.';\n",
              "          element.innerHTML = '';\n",
              "          dataTable['output_type'] = 'display_data';\n",
              "          await google.colab.output.renderOutput(dataTable, element);\n",
              "          const docLink = document.createElement('div');\n",
              "          docLink.innerHTML = docLinkHtml;\n",
              "          element.appendChild(docLink);\n",
              "        }\n",
              "      </script>\n",
              "    </div>\n",
              "  </div>\n",
              "  "
            ]
          },
          "metadata": {},
          "execution_count": 34
        }
      ],
      "source": [
        "# 1.1 清理缺失值\n",
        "df['PPD'] = df['PPD'].fillna(0)  # 缺值補0\n",
        "df.loc[df['Voice handicap index - 10'].isna(), 'Voice handicap index - 10'] = 23  # 缺值補23(中位數)\n",
        "# 1.2 處理 類別變項 (Categorical Feature) --> one-hot encoding\n",
        "categorical_columns = ['Sex', 'Smoking', 'Diurnal pattern', 'Onset of dysphonia ', 'Occupational vocal demand']\n",
        "df_trans = pd.get_dummies(df, columns=categorical_columns)\n",
        "# 1.3 處理 連續變項 (Continuous Feature)\n",
        "df_trans['Age'] = df['Age'] / 100\n",
        "df_trans['PPD'] = df['PPD'] / 2\n",
        "df_trans['Drinking'] = df['Drinking'] / 2\n",
        "df_trans['frequency'] = df['frequency'] / 3\n",
        "df_trans['Noise at work'] = (df['Noise at work'] - 1) / 2\n",
        "df_trans['Occupational vocal demand'] = (4 - df['Occupational vocal demand']) / 3\n",
        "df_trans['Voice handicap index - 10'] = df['Voice handicap index - 10'] / 40\n",
        "df_trans"
      ]
    },
    {
      "cell_type": "code",
      "execution_count": 35,
      "metadata": {
        "id": "4c4uctedl5nv",
        "colab": {
          "base_uri": "https://localhost:8080/"
        },
        "outputId": "972295d4-db20-47d5-c9dd-c17aba5f27ff"
      },
      "outputs": [
        {
          "output_type": "stream",
          "name": "stdout",
          "text": [
            "特徵欄位數量 = 41\n"
          ]
        }
      ],
      "source": [
        "# 特徵欄位 (必須與訓練資料的順序相同)\n",
        "feature_columns = ['Age', 'Narrow pitch range', 'Decreased volume', 'Fatigue',\n",
        "       'Dryness', 'Lumping', 'heartburn', 'Choking', 'Eye dryness', 'PND',\n",
        "       'PPD', 'Drinking', 'frequency', 'Noise at work', 'Diabetes',\n",
        "       'Hypertension', 'CAD', 'Head and Neck Cancer', 'Head injury', 'CVA',\n",
        "       'Voice handicap index - 10', 'Sex_1', 'Sex_2', 'Smoking_0', 'Smoking_1',\n",
        "       'Smoking_2', 'Smoking_3', 'Diurnal pattern_1', 'Diurnal pattern_2',\n",
        "       'Diurnal pattern_3', 'Diurnal pattern_4', 'Onset of dysphonia _1',\n",
        "       'Onset of dysphonia _2', 'Onset of dysphonia _3',\n",
        "       'Onset of dysphonia _4', 'Onset of dysphonia _5',\n",
        "       'Occupational vocal demand_1', 'Occupational vocal demand_2',\n",
        "       'Occupational vocal demand_3', 'Occupational vocal demand_4',\n",
        "       'Occupational vocal demand']\n",
        "\n",
        "print(\"特徵欄位數量 =\", len(feature_columns))"
      ]
    },
    {
      "cell_type": "markdown",
      "metadata": {
        "id": "LBmRiUFCnJVG"
      },
      "source": [
        "## 5.2 模型預測"
      ]
    },
    {
      "cell_type": "code",
      "execution_count": 36,
      "metadata": {
        "id": "Cg_H7q4HlmUy"
      },
      "outputs": [],
      "source": [
        "# 讀取模型存檔\n",
        "h5_file_path = \"/content/gdrive/Shareddrives/1112_AI智慧醫療三日工作坊/第04大組_Pony小馬車/code/model/feat41_D64D64O1-D5/best_model.h5\"  # <-- 確認模型檔案存放的路徑\n",
        "model = load_model(h5_file_path, compile=False)"
      ]
    },
    {
      "cell_type": "code",
      "execution_count": 37,
      "metadata": {
        "id": "0Xq7GoS-qKFy",
        "colab": {
          "base_uri": "https://localhost:8080/"
        },
        "outputId": "70ad6665-83b0-425b-b7ff-1836d6315ca5"
      },
      "outputs": [
        {
          "output_type": "stream",
          "name": "stdout",
          "text": [
            "32/32 [==============================] - 0s 1ms/step\n",
            "y_pred shape = (1000, 5)\n"
          ]
        },
        {
          "output_type": "execute_result",
          "data": {
            "text/plain": [
              "array([[ 2.83, -0.43, -2.64, -0.71,  0.84],\n",
              "       [ 0.87, -0.81, -0.88,  2.77, -1.96],\n",
              "       [-0.65,  1.48,  3.  , -1.63, -0.96],\n",
              "       ...,\n",
              "       [ 0.78,  0.71, -1.71, -1.21,  0.54],\n",
              "       [-0.81,  0.74,  1.53,  0.38, -2.64],\n",
              "       [ 2.04, -0.16, -1.78,  0.02, -0.34]], dtype=float32)"
            ]
          },
          "metadata": {},
          "execution_count": 37
        }
      ],
      "source": [
        "# 取得預測結果\n",
        "y_pred = model.predict(df_trans.loc[:, feature_columns])  # inputs_shape=(500, 41)\n",
        "print(\"y_pred shape =\", y_pred.shape)\n",
        "y_pred"
      ]
    },
    {
      "cell_type": "code",
      "execution_count": 38,
      "metadata": {
        "id": "jufReVGjqiSc",
        "colab": {
          "base_uri": "https://localhost:8080/"
        },
        "outputId": "fcca29a4-05af-4421-ae6d-8a865c276e89"
      },
      "outputs": [
        {
          "output_type": "execute_result",
          "data": {
            "text/plain": [
              "array([1, 4, 3, 4, 3, 1, 2, 3, 4, 4, 3, 4, 1, 1, 1, 1, 3, 1, 3, 1, 3, 4,\n",
              "       2, 1, 1, 3, 1, 1, 5, 1, 4, 2, 4, 3, 4, 1, 4, 2, 4, 2, 3, 1, 1, 5,\n",
              "       4, 2, 4, 1, 1, 1, 1, 1, 1, 4, 5, 1, 1, 1, 3, 4, 1, 1, 1, 3, 3, 4,\n",
              "       1, 3, 1, 3, 1, 5, 1, 2, 3, 1, 3, 1, 1, 1, 5, 1, 3, 1, 5, 4, 1, 2,\n",
              "       3, 2, 1, 3, 5, 1, 4, 4, 1, 2, 3, 2, 1, 5, 5, 1, 3, 2, 3, 3, 1, 1,\n",
              "       1, 3, 3, 1, 1, 1, 1, 2, 1, 1, 4, 3, 1, 1, 1, 3, 1, 4, 5, 3, 3, 1,\n",
              "       1, 3, 4, 1, 4, 3, 5, 4, 1, 1, 4, 4, 4, 2, 2, 1, 4, 5, 1, 3, 3, 5,\n",
              "       4, 1, 1, 3, 3, 3, 2, 1, 1, 3, 5, 4, 4, 1, 2, 2, 1, 3, 2, 3, 1, 5,\n",
              "       3, 1, 3, 5, 3, 1, 1, 1, 1, 3, 1, 5, 1, 2, 1, 1, 4, 4, 1, 4, 1, 5,\n",
              "       4, 1, 4, 4, 2, 4, 2, 4, 4, 5, 4, 5, 4, 2, 4, 2, 3, 1, 2, 1, 4, 2,\n",
              "       1, 1, 2, 1, 1, 1, 3, 1, 1, 3, 1, 2, 1, 3, 1, 4, 2, 5, 1, 3, 1, 1,\n",
              "       3, 1, 1, 4, 3, 1, 1, 2, 2, 1, 1, 3, 1, 4, 4, 3, 3, 1, 1, 1, 1, 5,\n",
              "       3, 4, 1, 1, 3, 1, 1, 5, 3, 1, 2, 5, 2, 5, 4, 4, 1, 1, 1, 5, 1, 3,\n",
              "       1, 4, 1, 4, 1, 2, 3, 3, 4, 1, 1, 1, 2, 1, 1, 1, 1, 1, 2, 1, 4, 3,\n",
              "       1, 2, 3, 1, 3, 3, 1, 3, 1, 3, 1, 3, 1, 2, 5, 1, 4, 2, 4, 3, 1, 1,\n",
              "       4, 3, 1, 4, 1, 3, 3, 1, 4, 3, 1, 3, 1, 4, 1, 1, 1, 1, 3, 3, 4, 1,\n",
              "       3, 2, 2, 1, 4, 2, 5, 4, 1, 1, 2, 1, 2, 1, 4, 1, 3, 1, 1, 5, 1, 3,\n",
              "       3, 1, 4, 1, 5, 4, 1, 2, 1, 1, 1, 4, 4, 4, 1, 1, 1, 5, 1, 1, 3, 1,\n",
              "       2, 1, 1, 3, 1, 3, 1, 1, 1, 3, 2, 1, 1, 1, 3, 3, 2, 1, 2, 1, 4, 2,\n",
              "       4, 4, 5, 1, 1, 2, 1, 4, 1, 3, 3, 1, 3, 1, 2, 4, 1, 1, 1, 2, 5, 4,\n",
              "       1, 1, 3, 2, 1, 4, 1, 1, 1, 2, 1, 1, 2, 3, 2, 3, 2, 5, 4, 1, 3, 1,\n",
              "       1, 1, 4, 1, 1, 5, 3, 1, 2, 4, 3, 3, 1, 2, 2, 1, 1, 1, 4, 1, 1, 4,\n",
              "       4, 1, 1, 1, 2, 4, 1, 4, 2, 1, 1, 1, 1, 2, 4, 1, 2, 4, 2, 2, 2, 1,\n",
              "       4, 1, 1, 1, 5, 2, 1, 3, 2, 4, 1, 1, 1, 1, 3, 1, 1, 1, 5, 1, 3, 4,\n",
              "       1, 1, 3, 4, 2, 4, 1, 1, 4, 4, 1, 4, 1, 4, 1, 2, 4, 1, 3, 2, 3, 3,\n",
              "       2, 1, 2, 2, 1, 3, 1, 3, 1, 5, 1, 1, 1, 2, 5, 1, 1, 1, 3, 4, 3, 3,\n",
              "       1, 1, 1, 2, 1, 1, 4, 2, 1, 2, 3, 1, 1, 3, 5, 5, 2, 3, 1, 1, 4, 1,\n",
              "       4, 2, 1, 4, 4, 3, 1, 1, 4, 3, 4, 4, 1, 2, 3, 5, 4, 1, 2, 3, 2, 5,\n",
              "       2, 3, 1, 3, 4, 4, 4, 5, 4, 1, 2, 1, 1, 3, 3, 1, 4, 1, 1, 2, 5, 3,\n",
              "       3, 1, 3, 3, 1, 1, 1, 2, 2, 3, 1, 1, 5, 3, 1, 4, 3, 2, 1, 1, 1, 1,\n",
              "       1, 4, 1, 4, 4, 4, 1, 2, 1, 2, 1, 1, 1, 3, 1, 3, 3, 1, 1, 1, 3, 1,\n",
              "       4, 1, 5, 4, 1, 4, 1, 1, 3, 1, 3, 1, 2, 2, 4, 2, 1, 4, 4, 4, 1, 4,\n",
              "       1, 1, 1, 3, 1, 2, 2, 5, 1, 4, 3, 1, 1, 1, 3, 4, 4, 1, 1, 3, 1, 5,\n",
              "       3, 1, 2, 5, 2, 3, 3, 5, 3, 4, 1, 1, 1, 5, 2, 3, 1, 4, 1, 4, 1, 1,\n",
              "       1, 1, 4, 3, 1, 4, 1, 5, 3, 1, 4, 4, 1, 4, 3, 1, 2, 3, 1, 1, 3, 2,\n",
              "       1, 2, 1, 2, 2, 1, 5, 1, 1, 3, 1, 5, 1, 5, 3, 1, 3, 4, 5, 4, 1, 1,\n",
              "       2, 1, 1, 1, 5, 1, 3, 3, 5, 5, 1, 5, 1, 1, 1, 2, 1, 3, 4, 2, 2, 1,\n",
              "       1, 3, 5, 2, 1, 4, 1, 1, 1, 1, 1, 2, 1, 1, 1, 4, 1, 2, 3, 3, 2, 1,\n",
              "       5, 4, 1, 1, 4, 1, 1, 4, 3, 2, 1, 4, 3, 3, 5, 3, 1, 3, 1, 1, 1, 1,\n",
              "       1, 1, 5, 5, 1, 4, 1, 1, 5, 4, 3, 3, 1, 5, 5, 1, 3, 2, 4, 2, 1, 4,\n",
              "       1, 4, 4, 4, 5, 1, 3, 5, 2, 1, 1, 1, 3, 1, 5, 1, 1, 3, 1, 3, 3, 4,\n",
              "       5, 1, 1, 1, 1, 2, 4, 3, 1, 1, 1, 1, 4, 3, 3, 5, 1, 1, 3, 1, 1, 2,\n",
              "       4, 5, 3, 1, 3, 3, 1, 3, 1, 2, 1, 5, 3, 3, 3, 1, 1, 4, 1, 1, 1, 1,\n",
              "       1, 1, 2, 1, 3, 1, 3, 4, 2, 1, 1, 3, 4, 2, 4, 4, 3, 5, 1, 1, 3, 4,\n",
              "       4, 4, 1, 4, 1, 1, 3, 3, 1, 2, 4, 1, 1, 5, 1, 3, 2, 4, 3, 2, 4, 3,\n",
              "       1, 4, 2, 4, 1, 1, 1, 1, 3, 1])"
            ]
          },
          "metadata": {},
          "execution_count": 38
        }
      ],
      "source": [
        "# 轉換為 疾病類別(1-5)\n",
        "disease_category = np.argmax(y_pred, axis=1) + 1  # 取每筆最高的預測位置 + 1\n",
        "disease_category"
      ]
    },
    {
      "cell_type": "code",
      "execution_count": 39,
      "metadata": {
        "id": "xXm_iKL8rSDZ",
        "colab": {
          "base_uri": "https://localhost:8080/",
          "height": 424
        },
        "outputId": "dbd14495-40be-4b8d-b9e8-a3df86cf1c0f"
      },
      "outputs": [
        {
          "output_type": "execute_result",
          "data": {
            "text/plain": [
              "          ID  Category\n",
              "0    1301skj         1\n",
              "1    1100j0u         4\n",
              "2    0G00r5c         3\n",
              "3    1202v5m         4\n",
              "4    0C01365         3\n",
              "..       ...       ...\n",
              "995  1001abu         1\n",
              "996  1002ss4         1\n",
              "997  0W011bi         1\n",
              "998  0R00num         3\n",
              "999  0Y02gae         1\n",
              "\n",
              "[1000 rows x 2 columns]"
            ],
            "text/html": [
              "\n",
              "  <div id=\"df-aacacad7-5770-4a52-982f-e6c9b77d2e37\">\n",
              "    <div class=\"colab-df-container\">\n",
              "      <div>\n",
              "<style scoped>\n",
              "    .dataframe tbody tr th:only-of-type {\n",
              "        vertical-align: middle;\n",
              "    }\n",
              "\n",
              "    .dataframe tbody tr th {\n",
              "        vertical-align: top;\n",
              "    }\n",
              "\n",
              "    .dataframe thead th {\n",
              "        text-align: right;\n",
              "    }\n",
              "</style>\n",
              "<table border=\"1\" class=\"dataframe\">\n",
              "  <thead>\n",
              "    <tr style=\"text-align: right;\">\n",
              "      <th></th>\n",
              "      <th>ID</th>\n",
              "      <th>Category</th>\n",
              "    </tr>\n",
              "  </thead>\n",
              "  <tbody>\n",
              "    <tr>\n",
              "      <th>0</th>\n",
              "      <td>1301skj</td>\n",
              "      <td>1</td>\n",
              "    </tr>\n",
              "    <tr>\n",
              "      <th>1</th>\n",
              "      <td>1100j0u</td>\n",
              "      <td>4</td>\n",
              "    </tr>\n",
              "    <tr>\n",
              "      <th>2</th>\n",
              "      <td>0G00r5c</td>\n",
              "      <td>3</td>\n",
              "    </tr>\n",
              "    <tr>\n",
              "      <th>3</th>\n",
              "      <td>1202v5m</td>\n",
              "      <td>4</td>\n",
              "    </tr>\n",
              "    <tr>\n",
              "      <th>4</th>\n",
              "      <td>0C01365</td>\n",
              "      <td>3</td>\n",
              "    </tr>\n",
              "    <tr>\n",
              "      <th>...</th>\n",
              "      <td>...</td>\n",
              "      <td>...</td>\n",
              "    </tr>\n",
              "    <tr>\n",
              "      <th>995</th>\n",
              "      <td>1001abu</td>\n",
              "      <td>1</td>\n",
              "    </tr>\n",
              "    <tr>\n",
              "      <th>996</th>\n",
              "      <td>1002ss4</td>\n",
              "      <td>1</td>\n",
              "    </tr>\n",
              "    <tr>\n",
              "      <th>997</th>\n",
              "      <td>0W011bi</td>\n",
              "      <td>1</td>\n",
              "    </tr>\n",
              "    <tr>\n",
              "      <th>998</th>\n",
              "      <td>0R00num</td>\n",
              "      <td>3</td>\n",
              "    </tr>\n",
              "    <tr>\n",
              "      <th>999</th>\n",
              "      <td>0Y02gae</td>\n",
              "      <td>1</td>\n",
              "    </tr>\n",
              "  </tbody>\n",
              "</table>\n",
              "<p>1000 rows × 2 columns</p>\n",
              "</div>\n",
              "      <button class=\"colab-df-convert\" onclick=\"convertToInteractive('df-aacacad7-5770-4a52-982f-e6c9b77d2e37')\"\n",
              "              title=\"Convert this dataframe to an interactive table.\"\n",
              "              style=\"display:none;\">\n",
              "        \n",
              "  <svg xmlns=\"http://www.w3.org/2000/svg\" height=\"24px\"viewBox=\"0 0 24 24\"\n",
              "       width=\"24px\">\n",
              "    <path d=\"M0 0h24v24H0V0z\" fill=\"none\"/>\n",
              "    <path d=\"M18.56 5.44l.94 2.06.94-2.06 2.06-.94-2.06-.94-.94-2.06-.94 2.06-2.06.94zm-11 1L8.5 8.5l.94-2.06 2.06-.94-2.06-.94L8.5 2.5l-.94 2.06-2.06.94zm10 10l.94 2.06.94-2.06 2.06-.94-2.06-.94-.94-2.06-.94 2.06-2.06.94z\"/><path d=\"M17.41 7.96l-1.37-1.37c-.4-.4-.92-.59-1.43-.59-.52 0-1.04.2-1.43.59L10.3 9.45l-7.72 7.72c-.78.78-.78 2.05 0 2.83L4 21.41c.39.39.9.59 1.41.59.51 0 1.02-.2 1.41-.59l7.78-7.78 2.81-2.81c.8-.78.8-2.07 0-2.86zM5.41 20L4 18.59l7.72-7.72 1.47 1.35L5.41 20z\"/>\n",
              "  </svg>\n",
              "      </button>\n",
              "      \n",
              "  <style>\n",
              "    .colab-df-container {\n",
              "      display:flex;\n",
              "      flex-wrap:wrap;\n",
              "      gap: 12px;\n",
              "    }\n",
              "\n",
              "    .colab-df-convert {\n",
              "      background-color: #E8F0FE;\n",
              "      border: none;\n",
              "      border-radius: 50%;\n",
              "      cursor: pointer;\n",
              "      display: none;\n",
              "      fill: #1967D2;\n",
              "      height: 32px;\n",
              "      padding: 0 0 0 0;\n",
              "      width: 32px;\n",
              "    }\n",
              "\n",
              "    .colab-df-convert:hover {\n",
              "      background-color: #E2EBFA;\n",
              "      box-shadow: 0px 1px 2px rgba(60, 64, 67, 0.3), 0px 1px 3px 1px rgba(60, 64, 67, 0.15);\n",
              "      fill: #174EA6;\n",
              "    }\n",
              "\n",
              "    [theme=dark] .colab-df-convert {\n",
              "      background-color: #3B4455;\n",
              "      fill: #D2E3FC;\n",
              "    }\n",
              "\n",
              "    [theme=dark] .colab-df-convert:hover {\n",
              "      background-color: #434B5C;\n",
              "      box-shadow: 0px 1px 3px 1px rgba(0, 0, 0, 0.15);\n",
              "      filter: drop-shadow(0px 1px 2px rgba(0, 0, 0, 0.3));\n",
              "      fill: #FFFFFF;\n",
              "    }\n",
              "  </style>\n",
              "\n",
              "      <script>\n",
              "        const buttonEl =\n",
              "          document.querySelector('#df-aacacad7-5770-4a52-982f-e6c9b77d2e37 button.colab-df-convert');\n",
              "        buttonEl.style.display =\n",
              "          google.colab.kernel.accessAllowed ? 'block' : 'none';\n",
              "\n",
              "        async function convertToInteractive(key) {\n",
              "          const element = document.querySelector('#df-aacacad7-5770-4a52-982f-e6c9b77d2e37');\n",
              "          const dataTable =\n",
              "            await google.colab.kernel.invokeFunction('convertToInteractive',\n",
              "                                                     [key], {});\n",
              "          if (!dataTable) return;\n",
              "\n",
              "          const docLinkHtml = 'Like what you see? Visit the ' +\n",
              "            '<a target=\"_blank\" href=https://colab.research.google.com/notebooks/data_table.ipynb>data table notebook</a>'\n",
              "            + ' to learn more about interactive tables.';\n",
              "          element.innerHTML = '';\n",
              "          dataTable['output_type'] = 'display_data';\n",
              "          await google.colab.output.renderOutput(dataTable, element);\n",
              "          const docLink = document.createElement('div');\n",
              "          docLink.innerHTML = docLinkHtml;\n",
              "          element.appendChild(docLink);\n",
              "        }\n",
              "      </script>\n",
              "    </div>\n",
              "  </div>\n",
              "  "
            ]
          },
          "metadata": {},
          "execution_count": 39
        }
      ],
      "source": [
        "# 準備競賽 提交檔案 submission\n",
        "df_submit = pd.DataFrame()\n",
        "df_submit['ID'] = df['ID']\n",
        "df_submit['Category'] = disease_category\n",
        "df_submit"
      ]
    },
    {
      "cell_type": "code",
      "execution_count": 40,
      "metadata": {
        "id": "AI4HLnmBsBQ6",
        "colab": {
          "base_uri": "https://localhost:8080/",
          "height": 34
        },
        "outputId": "66f55c2c-0538-4a61-8410-a8da1231de6c"
      },
      "outputs": [
        {
          "output_type": "display_data",
          "data": {
            "text/plain": [
              "<IPython.core.display.Javascript object>"
            ],
            "application/javascript": [
              "\n",
              "    async function download(id, filename, size) {\n",
              "      if (!google.colab.kernel.accessAllowed) {\n",
              "        return;\n",
              "      }\n",
              "      const div = document.createElement('div');\n",
              "      const label = document.createElement('label');\n",
              "      label.textContent = `Downloading \"${filename}\": `;\n",
              "      div.appendChild(label);\n",
              "      const progress = document.createElement('progress');\n",
              "      progress.max = size;\n",
              "      div.appendChild(progress);\n",
              "      document.body.appendChild(div);\n",
              "\n",
              "      const buffers = [];\n",
              "      let downloaded = 0;\n",
              "\n",
              "      const channel = await google.colab.kernel.comms.open(id);\n",
              "      // Send a message to notify the kernel that we're ready.\n",
              "      channel.send({})\n",
              "\n",
              "      for await (const message of channel.messages) {\n",
              "        // Send a message to notify the kernel that we're ready.\n",
              "        channel.send({})\n",
              "        if (message.buffers) {\n",
              "          for (const buffer of message.buffers) {\n",
              "            buffers.push(buffer);\n",
              "            downloaded += buffer.byteLength;\n",
              "            progress.value = downloaded;\n",
              "          }\n",
              "        }\n",
              "      }\n",
              "      const blob = new Blob(buffers, {type: 'application/binary'});\n",
              "      const a = document.createElement('a');\n",
              "      a.href = window.URL.createObjectURL(blob);\n",
              "      a.download = filename;\n",
              "      div.appendChild(a);\n",
              "      a.click();\n",
              "      div.remove();\n",
              "    }\n",
              "  "
            ]
          },
          "metadata": {}
        },
        {
          "output_type": "display_data",
          "data": {
            "text/plain": [
              "<IPython.core.display.Javascript object>"
            ],
            "application/javascript": [
              "download(\"download_702bf394-e6af-4cf0-8dcb-1785700a85df\", \"submission_public+private-MLP_0518_1.csv\", 10000)"
            ]
          },
          "metadata": {}
        }
      ],
      "source": [
        "# 儲存為 .csv\n",
        "csv_path = \"/content/gdrive/Shareddrives/1112_AI智慧醫療三日工作坊/第04大組_Pony小馬車/data/submission_public+private-MLP_0518_1.csv\"  # <-- 修改名稱\n",
        "df_submit.to_csv(csv_path, header=False, index=False, encoding='utf-8')  # 提交的csv格式不含 index 和 欄位\n",
        "\n",
        "from google.colab import files\n",
        "files.download(csv_path)"
      ]
    },
    {
      "cell_type": "code",
      "execution_count": 40,
      "metadata": {
        "id": "SQJKYfsftI4b"
      },
      "outputs": [],
      "source": []
    }
  ],
  "metadata": {
    "colab": {
      "provenance": [],
      "toc_visible": true,
      "include_colab_link": true
    },
    "gpuClass": "standard",
    "kernelspec": {
      "display_name": "Python 3",
      "name": "python3"
    },
    "language_info": {
      "name": "python"
    }
  },
  "nbformat": 4,
  "nbformat_minor": 0
}